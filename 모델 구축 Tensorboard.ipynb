{
 "cells": [
  {
   "cell_type": "code",
   "execution_count": 1,
   "id": "ceee31fd-f54a-41fe-9c38-6e5ab8b99d3e",
   "metadata": {},
   "outputs": [],
   "source": [
    "#Dataset/Dataloader 실습"
   ]
  },
  {
   "cell_type": "code",
   "execution_count": 2,
   "id": "696a0d1a-2047-4421-83fb-920e34ad40b9",
   "metadata": {},
   "outputs": [],
   "source": [
    "#Dataset=data와 label저장\n",
    "#Dataloader=iterable한 객체로 감싸줘서 모델에 공급될 수 있도록 데이터 불러옴"
   ]
  },
  {
   "cell_type": "code",
   "execution_count": 3,
   "id": "ddb65452-e6c3-463c-9085-fce477824e70",
   "metadata": {},
   "outputs": [],
   "source": [
    "#library import\n",
    "import torch\n",
    "import torchvision\n",
    "import torchvision.transforms as transforms\n",
    "from torch.utils.data import Dataset, DataLoader\n",
    "import numpy as np"
   ]
  },
  {
   "cell_type": "code",
   "execution_count": 4,
   "id": "b096c0cc-2c38-4998-a472-a8a9fb30ee1b",
   "metadata": {},
   "outputs": [
    {
     "data": {
      "text/plain": [
       "<torch._C.Generator at 0x194b9e93e70>"
      ]
     },
     "execution_count": 4,
     "metadata": {},
     "output_type": "execute_result"
    }
   ],
   "source": [
    "# 고정\n",
    "torch.manual_seed(42)"
   ]
  },
  {
   "cell_type": "code",
   "execution_count": 4,
   "id": "83311b44-f7bd-40d2-b5d3-3f7984d177b7",
   "metadata": {},
   "outputs": [],
   "source": [
    "###########data Transform\n",
    "\n",
    "transform = transforms.Compose( \n",
    "    [transforms.ToTensor(), #이미지가 0~1사이 값으로 변경->파이토치를 사용해서 분석을 진행하기 위해서는 이미지를 텐서로 변환하여 모델에 적용\n",
    "     transforms.Normalize((0.5), (0.5))] #-1~1사이의 값으로 정규화 시킴 이미지마다 명도,채도등 다르기때문에 이미지를 동일한 환경에 맞춰줌 #channel이 한개이기 때문에 한개의 채널에만 적용\n",
    ")"
   ]
  },
  {
   "cell_type": "code",
   "execution_count": 5,
   "id": "8bdd8a58-0aad-4648-8de2-34d061748c6f",
   "metadata": {},
   "outputs": [],
   "source": [
    "##Dataset 저장\n",
    "\n",
    "train_data=torchvision.datasets.FashionMNIST(\n",
    "    root='./data',\n",
    "    train=True,\n",
    "    download=True,\n",
    "    transform=transform #tensor로 변환\n",
    ")\n",
    "\n",
    "test_data=torchvision.datasets.FashionMNIST(\n",
    "    root='./data',\n",
    "    train=False,\n",
    "    download=True,\n",
    "    transform=transform #tensor로 변환\n",
    ")"
   ]
  },
  {
   "cell_type": "code",
   "execution_count": 6,
   "id": "f5fa3cb7-4b3c-4191-bf95-4775d7424ec6",
   "metadata": {},
   "outputs": [],
   "source": [
    "##EDA\n",
    "import matplotlib.pyplot as plt"
   ]
  },
  {
   "cell_type": "code",
   "execution_count": 7,
   "id": "c4999dbd-3857-4182-96b4-76b1a93c7227",
   "metadata": {
    "collapsed": true,
    "jupyter": {
     "outputs_hidden": true
    },
    "tags": []
   },
   "outputs": [
    {
     "data": {
      "text/plain": [
       "['__add__',\n",
       " '__class__',\n",
       " '__class_getitem__',\n",
       " '__delattr__',\n",
       " '__dict__',\n",
       " '__dir__',\n",
       " '__doc__',\n",
       " '__eq__',\n",
       " '__format__',\n",
       " '__ge__',\n",
       " '__getattribute__',\n",
       " '__getitem__',\n",
       " '__gt__',\n",
       " '__hash__',\n",
       " '__init__',\n",
       " '__init_subclass__',\n",
       " '__le__',\n",
       " '__len__',\n",
       " '__lt__',\n",
       " '__module__',\n",
       " '__ne__',\n",
       " '__new__',\n",
       " '__orig_bases__',\n",
       " '__parameters__',\n",
       " '__reduce__',\n",
       " '__reduce_ex__',\n",
       " '__repr__',\n",
       " '__setattr__',\n",
       " '__sizeof__',\n",
       " '__slots__',\n",
       " '__str__',\n",
       " '__subclasshook__',\n",
       " '__weakref__',\n",
       " '_check_exists',\n",
       " '_check_legacy_exist',\n",
       " '_format_transform_repr',\n",
       " '_load_data',\n",
       " '_load_legacy_data',\n",
       " '_repr_indent',\n",
       " 'class_to_idx',\n",
       " 'classes',\n",
       " 'data',\n",
       " 'download',\n",
       " 'extra_repr',\n",
       " 'mirrors',\n",
       " 'processed_folder',\n",
       " 'raw_folder',\n",
       " 'resources',\n",
       " 'root',\n",
       " 'target_transform',\n",
       " 'targets',\n",
       " 'test_data',\n",
       " 'test_file',\n",
       " 'test_labels',\n",
       " 'train',\n",
       " 'train_data',\n",
       " 'train_labels',\n",
       " 'training_file',\n",
       " 'transform',\n",
       " 'transforms']"
      ]
     },
     "execution_count": 7,
     "metadata": {},
     "output_type": "execute_result"
    }
   ],
   "source": [
    "dir(train_data) #변수확인&매소드확인"
   ]
  },
  {
   "cell_type": "code",
   "execution_count": 9,
   "id": "258e3366-e59c-45aa-8689-88ad05eced7e",
   "metadata": {
    "collapsed": true,
    "jupyter": {
     "outputs_hidden": true
    },
    "tags": []
   },
   "outputs": [
    {
     "data": {
      "text/plain": [
       "(tensor([[[-1.0000, -1.0000, -1.0000, -1.0000, -1.0000, -0.9922, -1.0000,\n",
       "           -1.0000, -1.0000, -1.0000, -0.6784,  0.4745, -0.1922, -0.5765,\n",
       "           -0.6235, -0.6627, -0.3176,  0.3176,  0.0431, -0.8745, -1.0000,\n",
       "           -1.0000, -1.0000, -1.0000, -1.0000, -1.0000, -1.0000, -1.0000],\n",
       "          [-1.0000, -1.0000, -1.0000, -0.9922, -1.0000, -1.0000, -1.0000,\n",
       "           -0.6157,  0.0667,  0.7176,  0.6941,  0.7882,  0.8510,  1.0000,\n",
       "            1.0000,  1.0000,  1.0000,  0.7020,  0.6863,  0.9922,  0.8118,\n",
       "            0.2549, -0.6471, -1.0000, -1.0000, -1.0000, -1.0000, -1.0000],\n",
       "          [-1.0000, -1.0000, -1.0000, -1.0000, -1.0000, -0.8902,  0.3804,\n",
       "            0.7412,  0.7569,  0.6627,  0.5922,  0.5529,  0.5373,  0.5686,\n",
       "            0.6863,  0.6000,  0.5843,  0.5765,  0.5765,  0.5765,  0.6392,\n",
       "            0.7098,  0.7569,  0.2863, -1.0000, -1.0000, -1.0000, -1.0000],\n",
       "          [-1.0000, -1.0000, -1.0000, -1.0000, -1.0000,  0.4745,  0.7176,\n",
       "            0.5686,  0.5529,  0.5843,  0.5529,  0.5608,  0.5608,  0.5765,\n",
       "            0.5373,  0.5529,  0.5529,  0.5686,  0.5686,  0.5686,  0.5686,\n",
       "            0.5765,  0.5686,  0.7647, -0.6784, -1.0000, -1.0000, -1.0000],\n",
       "          [-1.0000, -1.0000, -1.0000, -1.0000, -0.6000,  0.7176,  0.5608,\n",
       "            0.5922,  0.5922,  0.6627,  0.8667,  0.9451,  0.9608,  0.9216,\n",
       "            0.9529,  0.9294,  0.9373,  0.9765,  0.9451,  0.8431,  0.6235,\n",
       "            0.5922,  0.5922,  0.7412,  0.0980, -1.0000, -1.0000, -1.0000],\n",
       "          [-1.0000, -1.0000, -1.0000, -1.0000, -0.0902,  0.7725,  0.6157,\n",
       "            0.6000,  0.6235,  0.6000, -0.2078, -0.4118, -0.6314, -0.4275,\n",
       "           -0.6235, -0.6078, -0.6471, -0.6000, -0.5059, -0.1137,  0.7412,\n",
       "            0.5843,  0.6157,  0.7255,  0.7569, -1.0000, -1.0000, -1.0000],\n",
       "          [-1.0000, -1.0000, -1.0000, -1.0000,  0.5686,  0.7412,  0.6392,\n",
       "            0.5922,  0.6863,  0.5686, -1.0000, -0.4510, -0.2314, -1.0000,\n",
       "           -0.1922, -0.5373, -0.4667, -0.4431, -0.6157, -1.0000,  0.7176,\n",
       "            0.6157,  0.6784,  0.6471,  0.9608, -0.7020, -1.0000, -1.0000],\n",
       "          [-1.0000, -1.0000, -1.0000, -1.0000,  0.9373,  0.7098,  0.6627,\n",
       "            0.6471,  0.6863,  0.6784, -1.0000,  0.9922,  0.9059,  0.0902,\n",
       "            1.0000,  0.3647,  0.9686,  1.0000,  0.6078, -1.0000,  0.6863,\n",
       "            0.7020,  0.6784,  0.6314,  0.7255, -0.2549, -1.0000, -1.0000],\n",
       "          [-1.0000, -1.0000, -1.0000, -0.6471,  0.7725,  0.6784,  0.6784,\n",
       "            0.6863,  0.7569,  0.6078, -1.0000, -0.6706, -0.7255, -0.5294,\n",
       "           -0.8745, -0.8667, -0.9059, -0.8980, -0.4510, -1.0000,  0.4824,\n",
       "            0.6941,  0.6627,  0.6157,  0.6627,  0.2235, -1.0000, -1.0000],\n",
       "          [-1.0000, -1.0000, -1.0000,  0.2863,  0.8431,  0.6784,  0.6549,\n",
       "            0.7255,  0.6941,  0.5765, -0.5922, -0.4431, -0.3020, -0.2627,\n",
       "           -0.3490, -0.3882, -0.4510, -0.4039, -0.2784, -0.3176,  0.6157,\n",
       "            0.6235,  0.7412,  0.6706,  0.7176,  0.6314, -1.0000, -1.0000],\n",
       "          [-1.0000, -1.0000, -1.0000, -0.1686,  0.4667,  0.7490,  0.8588,\n",
       "            0.9451,  0.6549,  0.5529,  0.9765,  0.9608,  0.9451,  0.9216,\n",
       "            0.9451,  0.9765,  0.9843,  0.9608,  0.9765,  0.8745,  0.5765,\n",
       "            0.6627,  0.7647,  0.6863,  0.5137, -0.1137, -1.0000, -1.0000],\n",
       "          [-1.0000, -1.0000, -1.0000, -1.0000, -1.0000, -0.8667, -0.5765,\n",
       "            0.2471,  0.7412,  0.5137,  0.6314,  0.5059,  0.5451,  0.5686,\n",
       "            0.5686,  0.5686,  0.5686,  0.5765,  0.5922,  0.5294,  0.6471,\n",
       "            0.2941, -1.0000, -1.0000, -1.0000, -1.0000, -1.0000, -1.0000],\n",
       "          [-1.0000, -1.0000, -1.0000, -1.0000, -1.0000, -1.0000, -1.0000,\n",
       "           -0.6314,  0.7647,  0.5059,  0.6784,  0.5922,  0.6157,  0.6000,\n",
       "            0.6000,  0.6078,  0.6157,  0.6000,  0.6627,  0.5451,  0.7098,\n",
       "           -0.1608, -1.0000, -1.0000, -1.0000, -1.0000, -1.0000, -1.0000],\n",
       "          [-1.0000, -1.0000, -1.0000, -1.0000, -0.9922, -0.9529, -1.0000,\n",
       "           -0.6392,  0.6627,  0.5294,  0.6627,  0.5843,  0.6157,  0.6078,\n",
       "            0.6000,  0.6078,  0.6157,  0.6000,  0.6627,  0.5686,  0.7098,\n",
       "           -0.2863, -1.0000, -0.9765, -0.9922, -1.0000, -1.0000, -1.0000],\n",
       "          [-1.0000, -1.0000, -1.0000, -1.0000, -1.0000, -0.9922, -1.0000,\n",
       "           -0.9137,  0.5451,  0.5608,  0.6078,  0.5843,  0.6078,  0.6157,\n",
       "            0.6000,  0.6078,  0.6235,  0.6000,  0.6078,  0.6078,  0.7098,\n",
       "           -0.3961, -1.0000, -0.9608, -1.0000, -1.0000, -1.0000, -1.0000],\n",
       "          [-1.0000, -1.0000, -1.0000, -1.0000, -1.0000, -0.9765, -1.0000,\n",
       "           -0.9843,  0.4980,  0.5529,  0.5765,  0.6078,  0.6157,  0.6078,\n",
       "            0.6078,  0.6157,  0.6392,  0.6157,  0.5608,  0.6392,  0.7176,\n",
       "           -0.4196, -1.0000, -0.9608, -1.0000, -1.0000, -1.0000, -1.0000],\n",
       "          [-1.0000, -1.0000, -1.0000, -1.0000, -1.0000, -0.9843, -1.0000,\n",
       "           -1.0000,  0.4745,  0.5451,  0.5686,  0.6235,  0.6235,  0.6000,\n",
       "            0.6235,  0.6235,  0.6471,  0.6314,  0.5529,  0.6235,  0.7333,\n",
       "           -0.4353, -1.0000, -0.9686, -1.0000, -1.0000, -1.0000, -1.0000],\n",
       "          [-1.0000, -1.0000, -1.0000, -1.0000, -1.0000, -0.9843, -1.0000,\n",
       "           -1.0000,  0.6863,  0.5529,  0.5922,  0.6157,  0.6314,  0.6078,\n",
       "            0.6235,  0.6235,  0.6471,  0.6314,  0.5686,  0.5843,  0.7412,\n",
       "           -0.4118, -1.0000, -0.9686, -1.0000, -1.0000, -1.0000, -1.0000],\n",
       "          [-1.0000, -1.0000, -1.0000, -1.0000, -1.0000, -0.9922, -1.0000,\n",
       "           -1.0000,  0.6627,  0.5529,  0.6392,  0.6157,  0.6392,  0.6157,\n",
       "            0.6314,  0.6235,  0.6549,  0.6157,  0.6078,  0.5529,  0.7333,\n",
       "           -0.3725, -1.0000, -0.9765, -1.0000, -1.0000, -1.0000, -1.0000],\n",
       "          [-1.0000, -1.0000, -1.0000, -1.0000, -1.0000, -0.9922, -1.0000,\n",
       "           -1.0000,  0.6000,  0.5765,  0.6078,  0.6314,  0.6235,  0.6078,\n",
       "            0.6549,  0.6078,  0.6471,  0.6471,  0.6392,  0.5294,  0.7333,\n",
       "           -0.2471, -1.0000, -0.9765, -1.0000, -1.0000, -1.0000, -1.0000],\n",
       "          [-1.0000, -1.0000, -1.0000, -1.0000, -1.0000, -0.9922, -1.0000,\n",
       "           -1.0000,  0.5843,  0.5765,  0.6078,  0.6392,  0.6235,  0.6078,\n",
       "            0.6706,  0.6157,  0.6471,  0.6392,  0.6471,  0.5216,  0.7020,\n",
       "           -0.1765, -1.0000, -0.9843, -1.0000, -1.0000, -1.0000, -1.0000],\n",
       "          [-1.0000, -1.0000, -1.0000, -1.0000, -1.0000, -0.9922, -1.0000,\n",
       "           -1.0000,  0.6000,  0.6000,  0.6078,  0.6314,  0.6235,  0.6078,\n",
       "            0.6863,  0.6235,  0.6471,  0.6314,  0.6549,  0.5137,  0.6706,\n",
       "           -0.0980, -1.0000, -0.9843, -1.0000, -1.0000, -1.0000, -1.0000],\n",
       "          [-1.0000, -1.0000, -1.0000, -1.0000, -1.0000, -1.0000, -1.0000,\n",
       "           -1.0000,  0.6000,  0.6235,  0.6235,  0.6314,  0.6157,  0.6157,\n",
       "            0.6863,  0.6471,  0.6471,  0.6235,  0.6627,  0.5294,  0.6471,\n",
       "           -0.0745, -1.0000, -0.9843, -1.0000, -1.0000, -1.0000, -1.0000],\n",
       "          [-1.0000, -1.0000, -1.0000, -1.0000, -1.0000, -0.9922, -1.0000,\n",
       "           -1.0000,  0.5529,  0.6314,  0.6314,  0.6314,  0.6000,  0.6235,\n",
       "            0.6627,  0.6627,  0.6471,  0.6235,  0.6549,  0.5373,  0.6235,\n",
       "           -0.0510, -1.0000, -0.9922, -1.0000, -1.0000, -1.0000, -1.0000],\n",
       "          [-1.0000, -1.0000, -1.0000, -1.0000, -1.0000, -0.9922, -1.0000,\n",
       "           -1.0000,  0.5529,  0.6471,  0.6235,  0.6314,  0.6157,  0.6392,\n",
       "            0.6706,  0.6627,  0.6549,  0.6235,  0.6471,  0.5451,  0.6235,\n",
       "           -0.0275, -1.0000, -0.9922, -1.0000, -1.0000, -1.0000, -1.0000],\n",
       "          [-1.0000, -1.0000, -1.0000, -1.0000, -1.0000, -1.0000, -1.0000,\n",
       "           -1.0000,  0.3490,  0.6471,  0.5922,  0.5765,  0.5608,  0.6000,\n",
       "            0.6235,  0.6078,  0.6000,  0.5765,  0.6078,  0.5451,  0.6157,\n",
       "           -0.0039, -1.0000, -1.0000, -1.0000, -1.0000, -1.0000, -1.0000],\n",
       "          [-1.0000, -1.0000, -1.0000, -1.0000, -1.0000, -1.0000, -1.0000,\n",
       "           -1.0000,  0.4745,  0.7333,  0.6784,  0.8353,  0.8510,  0.8667,\n",
       "            0.9137,  0.9137,  0.9137,  0.8824,  0.9059,  0.6784,  0.7569,\n",
       "            0.2706, -1.0000, -0.9843, -1.0000, -1.0000, -1.0000, -1.0000],\n",
       "          [-1.0000, -1.0000, -1.0000, -1.0000, -1.0000, -0.9922, -1.0000,\n",
       "           -1.0000,  0.0902,  0.1451,  0.0196,  0.0588,  0.0588,  0.0745,\n",
       "           -0.0196, -0.0275, -0.0196, -0.0510, -0.0667, -0.1059,  0.0196,\n",
       "           -0.4039, -1.0000, -1.0000, -1.0000, -1.0000, -1.0000, -1.0000]]]),\n",
       " 0)"
      ]
     },
     "execution_count": 9,
     "metadata": {},
     "output_type": "execute_result"
    }
   ],
   "source": [
    "train_data[1] #data tensor값, 라벨값 추출"
   ]
  },
  {
   "cell_type": "code",
   "execution_count": 10,
   "id": "c9d71cb4-2fca-4872-abc1-4286cecd554e",
   "metadata": {
    "tags": []
   },
   "outputs": [
    {
     "name": "stdout",
     "output_type": "stream",
     "text": [
      "['T-shirt/top', 'Trouser', 'Pullover', 'Dress', 'Coat', 'Sandal', 'Shirt', 'Sneaker', 'Bag', 'Ankle boot']\n",
      "<class 'torchvision.datasets.mnist.FashionMNIST'>\n",
      "tensor([  0,   0,   0,   1,   0,   0,   0,  49, 136, 219, 216, 228, 236, 255,\n",
      "        255, 255, 255, 217, 215, 254, 231, 160,  45,   0,   0,   0,   0,   0],\n",
      "       dtype=torch.uint8)\n",
      "torch.Size([60000, 28, 28])\n"
     ]
    }
   ],
   "source": [
    "#train data\n",
    "print(train_data.classes) #클래스확인\n",
    "print(type(train_data))\n",
    "print(train_data.data[1,1])\n",
    "print(train_data.data.size()) #train set은 6만개의 28x28사이즈 이미지로 구성됨"
   ]
  },
  {
   "cell_type": "code",
   "execution_count": 11,
   "id": "c32f6e2f-3a07-4140-bc25-add3b19ad94e",
   "metadata": {},
   "outputs": [
    {
     "data": {
      "text/plain": [
       "'T-shirt/top'"
      ]
     },
     "execution_count": 11,
     "metadata": {},
     "output_type": "execute_result"
    }
   ],
   "source": [
    "trainclass=train_data.classes\n",
    "trainclass[0] #라벨값으로 class명 추출"
   ]
  },
  {
   "cell_type": "code",
   "execution_count": 12,
   "id": "60b4eacb-31cf-423d-b249-da84d68d9af4",
   "metadata": {},
   "outputs": [
    {
     "name": "stdout",
     "output_type": "stream",
     "text": [
      "{0: 'T-shirt/top', 1: 'Trouser', 2: 'Pullover', 3: 'Dress', 4: 'Coat', 5: 'Sandal', 6: 'Shirt', 7: 'Sneaker', 8: 'Bag', 9: 'Ankle boot'}\n",
      "T-shirt/top\n"
     ]
    }
   ],
   "source": [
    "#Data EDA\n",
    "#class dictionary\n",
    "labels_map={\n",
    "    0: trainclass[0],\n",
    "    1: trainclass[1],\n",
    "    2: trainclass[2],\n",
    "    3: trainclass[3],\n",
    "    4: trainclass[4],\n",
    "    5: trainclass[5],\n",
    "    6: trainclass[6],\n",
    "    7: trainclass[7],\n",
    "    8: trainclass[8],\n",
    "    9: trainclass[9],\n",
    "}\n",
    "\n",
    "print(labels_map)\n",
    "print(labels_map[0]) #라벨값과 실제 클래스 이름 맵핑"
   ]
  },
  {
   "cell_type": "code",
   "execution_count": 14,
   "id": "e5536794-8aed-4e36-acfa-60dc0ad74bae",
   "metadata": {},
   "outputs": [
    {
     "data": {
      "image/png": "[encoded data removed]",
      "text/plain": [
       "<Figure size 720x720 with 9 Axes>"
      ]
     },
     "metadata": {
      "needs_background": "light"
     },
     "output_type": "display_data"
    }
   ],
   "source": [
    "figure=plt.figure(figsize=(10,10)) #plt.figure()는 새로운 figure를 생성해준다\n",
    "\n",
    "cols, rows= 3,3\n",
    "\n",
    "for i in range(1,cols*rows+1): #for문을 통해 랜덤으로 0개의 데이터 뽑고 시각화 해주는 part\n",
    "    sample_idx=torch.randint(len(train_data),size=(1,)).item() #1~60000중 랜덤숫자 추출\n",
    "    img, label= train_data[sample_idx] #첫번째 텐서값을 이미지, 두번째 정수값을->라벨값으로\n",
    "    figure.add_subplot(rows,cols,i) #figure.add_subplot(3,3,1),,,figure.add_subplot(3,3,9) 순서대로 이미지 나타내줌 key, value값\n",
    "    plt.title(labels_map[label]) #해당라벨에대해서 label_map dic에서 텍스트값 추출 \n",
    "    plt.axis('off') #axis제거\n",
    "    plt.imshow(img.squeeze(),cmap='gray') #squeeze->차원이 1인 차원을 제거해줌, cmap='이미지컬러' ex) x=torch.ones(10,5,1,3,1)->x.squeeze()->torch.ones(10,5,3)으로 바꿔줌 바꿔주는 이유는? 차원을 축소하여 그래프를 알맞게 그리기 위함.\n",
    "plt.show()"
   ]
  },
  {
   "cell_type": "code",
   "execution_count": 15,
   "id": "116a864c-cbca-4e60-aaa7-df6dd7a97b78",
   "metadata": {},
   "outputs": [
    {
     "name": "stdout",
     "output_type": "stream",
     "text": [
      "['T-shirt/top', 'Trouser', 'Pullover', 'Dress', 'Coat', 'Sandal', 'Shirt', 'Sneaker', 'Bag', 'Ankle boot']\n",
      "<class 'torchvision.datasets.mnist.FashionMNIST'>\n",
      "torch.Size([10000, 28, 28])\n"
     ]
    }
   ],
   "source": [
    "##test data\n",
    "print(test_data.classes) #클래스확인\n",
    "print(type(test_data))\n",
    "print(test_data.data.size()) #train set은 6만개의 28x28사이즈 이미지로 구성됨"
   ]
  },
  {
   "cell_type": "code",
   "execution_count": 17,
   "id": "54bf17f9-2ee7-4065-9eae-122d1e3636ff",
   "metadata": {
    "tags": []
   },
   "outputs": [
    {
     "data": {
      "text/plain": [
       "{'Ankle boot': 6000,\n",
       " 'T-shirt/top': 6000,\n",
       " 'Dress': 6000,\n",
       " 'Pullover': 6000,\n",
       " 'Sneaker': 6000,\n",
       " 'Sandal': 6000,\n",
       " 'Trouser': 6000,\n",
       " 'Shirt': 6000,\n",
       " 'Coat': 6000,\n",
       " 'Bag': 6000}"
      ]
     },
     "execution_count": 17,
     "metadata": {},
     "output_type": "execute_result"
    }
   ],
   "source": [
    "##################train test class별 개수 구하기\n",
    "\n",
    "train_class_count=dict()\n",
    "\n",
    "\n",
    "for train_item in train_data: #이미지 텐서값 라벨값 반환\n",
    "    label=train_data.classes[train_item[1]] #차례대로 첫번째부터 라벨값 추출\n",
    "    if label not in train_class_count: \n",
    "        train_class_count[label] =1 #첫번쨰로 라벨이 나오면 1로 주고 그다음부터 +1씩\n",
    "    else:\n",
    "        train_class_count[label] +=1\n",
    "        \n",
    "train_class_count"
   ]
  },
  {
   "cell_type": "code",
   "execution_count": 18,
   "id": "31c55b25-99b8-4997-8b97-d55d7f0050c3",
   "metadata": {},
   "outputs": [
    {
     "data": {
      "text/plain": [
       "{'Ankle boot': 1000,\n",
       " 'Pullover': 1000,\n",
       " 'Trouser': 1000,\n",
       " 'Shirt': 1000,\n",
       " 'Coat': 1000,\n",
       " 'Sandal': 1000,\n",
       " 'Sneaker': 1000,\n",
       " 'Dress': 1000,\n",
       " 'Bag': 1000,\n",
       " 'T-shirt/top': 1000}"
      ]
     },
     "execution_count": 18,
     "metadata": {},
     "output_type": "execute_result"
    }
   ],
   "source": [
    "##################train test class별 개수 구하기\n",
    "\n",
    "test_class_count=dict()\n",
    "\n",
    "\n",
    "for test_item in test_data:\n",
    "    label=test_data.classes[test_item[1]] #차례대로 첫번째부터 라벨값 추출\n",
    "    if label not in test_class_count: #\n",
    "        test_class_count[label]=1\n",
    "    else:\n",
    "        test_class_count[label] +=1\n",
    "        \n",
    "test_class_count"
   ]
  },
  {
   "cell_type": "code",
   "execution_count": 19,
   "id": "267c4a53-d9ce-4260-8c0b-e3767d30bf7f",
   "metadata": {},
   "outputs": [
    {
     "data": {
      "text/plain": [
       "'\\ntrain data-> class별로 6000개\\ntest data-> class별로 1000개\\n'"
      ]
     },
     "execution_count": 19,
     "metadata": {},
     "output_type": "execute_result"
    }
   ],
   "source": [
    "'''\n",
    "train data-> class별로 6000개\n",
    "test data-> class별로 1000개\n",
    "'''"
   ]
  },
  {
   "cell_type": "code",
   "execution_count": 20,
   "id": "9103b536-a550-48c4-8855-945aefd1b808",
   "metadata": {},
   "outputs": [],
   "source": [
    "#DATA LOADER"
   ]
  },
  {
   "cell_type": "code",
   "execution_count": 21,
   "id": "f8d33435-0eda-4432-8df7-3f3bad51eccc",
   "metadata": {},
   "outputs": [],
   "source": [
    "trainloader = torch.utils.data.DataLoader(train_data, batch_size=64, shuffle=True, num_workers=2) \n",
    "testloader = torch.utils.data.DataLoader(test_data, batch_size=64, shuffle=False, num_workers=2) "
   ]
  },
  {
   "cell_type": "code",
   "execution_count": 22,
   "id": "239e78c9-0815-4d90-8614-66a8a40ae398",
   "metadata": {
    "tags": []
   },
   "outputs": [],
   "source": [
    "#trainloader.dataset"
   ]
  },
  {
   "cell_type": "code",
   "execution_count": 23,
   "id": "803167e8-083a-4af1-bd1e-4c7e75aee040",
   "metadata": {
    "tags": []
   },
   "outputs": [],
   "source": [
    "#testloader.dataset"
   ]
  },
  {
   "cell_type": "code",
   "execution_count": 25,
   "id": "62b1c73f-416c-4d9a-9ad5-27fba384346e",
   "metadata": {
    "collapsed": true,
    "jupyter": {
     "outputs_hidden": true
    },
    "tags": []
   },
   "outputs": [
    {
     "name": "stdout",
     "output_type": "stream",
     "text": [
      "tensor([[[[-1.0000, -1.0000, -1.0000,  ..., -1.0000, -1.0000, -1.0000],\n",
      "          [-1.0000, -1.0000, -1.0000,  ..., -1.0000, -1.0000, -1.0000],\n",
      "          [-1.0000, -1.0000, -1.0000,  ..., -1.0000, -1.0000, -1.0000],\n",
      "          ...,\n",
      "          [-1.0000, -1.0000, -1.0000,  ..., -1.0000, -1.0000, -1.0000],\n",
      "          [-1.0000, -1.0000, -1.0000,  ..., -1.0000, -1.0000, -1.0000],\n",
      "          [-1.0000, -1.0000, -1.0000,  ..., -1.0000, -1.0000, -1.0000]]],\n",
      "\n",
      "\n",
      "        [[[-1.0000, -1.0000, -1.0000,  ..., -1.0000, -1.0000, -1.0000],\n",
      "          [-1.0000, -1.0000, -1.0000,  ..., -1.0000, -1.0000, -1.0000],\n",
      "          [-1.0000, -1.0000, -1.0000,  ..., -1.0000, -1.0000, -1.0000],\n",
      "          ...,\n",
      "          [-1.0000, -1.0000, -1.0000,  ..., -1.0000, -1.0000, -1.0000],\n",
      "          [-1.0000, -1.0000, -1.0000,  ..., -1.0000, -1.0000, -1.0000],\n",
      "          [-1.0000, -1.0000, -1.0000,  ..., -1.0000, -1.0000, -1.0000]]],\n",
      "\n",
      "\n",
      "        [[[-1.0000, -1.0000, -1.0000,  ..., -1.0000, -1.0000, -1.0000],\n",
      "          [-1.0000, -1.0000, -1.0000,  ..., -1.0000, -1.0000, -1.0000],\n",
      "          [-1.0000, -1.0000, -1.0000,  ..., -1.0000, -1.0000, -1.0000],\n",
      "          ...,\n",
      "          [-1.0000, -1.0000, -1.0000,  ..., -1.0000, -1.0000, -1.0000],\n",
      "          [-1.0000, -1.0000, -1.0000,  ..., -1.0000, -1.0000, -1.0000],\n",
      "          [-1.0000, -1.0000, -1.0000,  ..., -1.0000, -1.0000, -1.0000]]],\n",
      "\n",
      "\n",
      "        ...,\n",
      "\n",
      "\n",
      "        [[[-1.0000, -1.0000, -1.0000,  ..., -1.0000, -1.0000, -1.0000],\n",
      "          [-1.0000, -1.0000, -1.0000,  ..., -1.0000, -1.0000, -1.0000],\n",
      "          [-1.0000, -1.0000, -1.0000,  ..., -0.9765, -1.0000, -1.0000],\n",
      "          ...,\n",
      "          [-1.0000, -1.0000, -1.0000,  ..., -1.0000, -1.0000, -1.0000],\n",
      "          [-1.0000, -1.0000, -1.0000,  ..., -1.0000, -1.0000, -1.0000],\n",
      "          [-1.0000, -1.0000, -1.0000,  ..., -1.0000, -1.0000, -1.0000]]],\n",
      "\n",
      "\n",
      "        [[[-1.0000, -1.0000, -1.0000,  ..., -1.0000, -1.0000, -1.0000],\n",
      "          [-1.0000, -1.0000, -1.0000,  ..., -1.0000, -1.0000, -1.0000],\n",
      "          [-1.0000, -1.0000, -1.0000,  ..., -1.0000, -1.0000, -1.0000],\n",
      "          ...,\n",
      "          [-1.0000, -1.0000, -1.0000,  ..., -1.0000, -1.0000, -1.0000],\n",
      "          [-1.0000, -1.0000, -1.0000,  ..., -1.0000, -1.0000, -1.0000],\n",
      "          [-1.0000, -1.0000, -1.0000,  ..., -1.0000, -1.0000, -1.0000]]],\n",
      "\n",
      "\n",
      "        [[[-1.0000, -1.0000, -1.0000,  ..., -1.0000, -1.0000, -1.0000],\n",
      "          [-1.0000, -1.0000, -1.0000,  ..., -1.0000, -1.0000, -1.0000],\n",
      "          [-1.0000, -1.0000, -1.0000,  ..., -1.0000, -1.0000, -1.0000],\n",
      "          ...,\n",
      "          [-1.0000, -1.0000, -1.0000,  ..., -1.0000, -1.0000, -1.0000],\n",
      "          [-1.0000, -1.0000, -1.0000,  ..., -1.0000, -1.0000, -1.0000],\n",
      "          [-1.0000, -1.0000, -1.0000,  ..., -1.0000, -1.0000, -1.0000]]]])\n",
      "tensor([0, 7, 9, 6, 2, 5, 2, 2, 8, 0, 9, 9, 7, 8, 1, 4, 1, 8, 7, 5, 9, 6, 4, 2,\n",
      "        0, 2, 1, 8, 2, 8, 7, 9, 3, 1, 3, 4, 0, 7, 5, 9, 0, 3, 2, 2, 9, 5, 0, 4,\n",
      "        0, 7, 5, 7, 8, 1, 6, 9, 4, 1, 3, 7, 9, 0, 7, 7])\n"
     ]
    }
   ],
   "source": [
    "#Dataloader EDA\n",
    "#DataLoader를 통해 반복하기->이미지, 라벨 뽑아내기 EDA\n",
    "#이미지와 라벨값을 표시\n",
    "\n",
    "train_images, train_labels = next(iter(trainloader))\n",
    "print(train_images) #이미지 텐서값 추출\n",
    "print(train_labels) #라벨값 추출\n",
    "###batch size-> 64개에 대한 텐서값, 라벨값 추출"
   ]
  },
  {
   "cell_type": "code",
   "execution_count": 26,
   "id": "a32cc4f3-55f3-433c-87b2-7f8bdc04bd11",
   "metadata": {
    "tags": []
   },
   "outputs": [
    {
     "name": "stdout",
     "output_type": "stream",
     "text": [
      "Feature batch shape: torch.Size([64, 1, 28, 28])\n",
      "Labels batch shape: torch.Size([64])\n",
      "tensor(0)\n",
      "torch.Size([28, 28])\n"
     ]
    }
   ],
   "source": [
    "print(f\"Feature batch shape: {train_images.size()}\") #f'문자열 {변수} 문자열' f-string 64x1x28x28->(batch_size,channel,image height,image weight\n",
    "print(f\"Labels batch shape: {train_labels.size()}\")\n",
    "img=train_images[0].squeeze() #channel=1 이기때문에 1인차원을 scalar로 변환 채널을 없애야함. 채널을 없애줘야 화면에 그릴수 있음, 1인차원을 없애주어야함(Invalid dimensions for image data)\n",
    "label=train_labels[0]\n",
    "print(train_labels[0])\n",
    "print(img.size())\n",
    "#이미지별 라벨별 사이즈. 이미지는 64x1x28x28 label=64개\n",
    "#matplotlib에서 흑백 두톤만 가지는 그래프는 채널 즉 1인차원을 없애줘야함"
   ]
  },
  {
   "cell_type": "code",
   "execution_count": 27,
   "id": "b7dd8a0f-2ca1-42e5-8355-62f3b37c99bf",
   "metadata": {
    "tags": []
   },
   "outputs": [
    {
     "data": {
      "image/png": "[encoded data removed]",
      "text/plain": [
       "<Figure size 432x288 with 1 Axes>"
      ]
     },
     "metadata": {
      "needs_background": "light"
     },
     "output_type": "display_data"
    },
    {
     "name": "stdout",
     "output_type": "stream",
     "text": [
      "Label:0\n",
      "Class name:T-shirt/top\n"
     ]
    }
   ],
   "source": [
    "plt.imshow(img,cmap='gray')\n",
    "plt.show()\n",
    "print(f'Label:{label}')\n",
    "labeling=int(label)\n",
    "print(f'Class name:{labels_map[labeling]}')"
   ]
  },
  {
   "cell_type": "code",
   "execution_count": 28,
   "id": "185745f2-8f90-4ff5-bdbc-30dd64ff2b86",
   "metadata": {},
   "outputs": [],
   "source": [
    "############내가 이미지를 가지고있는경우\n",
    "###########Custom dataset만들기"
   ]
  },
  {
   "cell_type": "code",
   "execution_count": 29,
   "id": "a26baad3-8ace-494d-8457-b47cfb6f3787",
   "metadata": {},
   "outputs": [],
   "source": [
    "# Custom dataset, Transform, DataLoader 생성\n",
    "\n",
    "class Customdataset(Dataset): #Dataset 상속받음->from torch.utils.data import Dataset, DataLoader여기서 Dataset클래스 상속받음(데이터를 활용하고 모델에 입력하기위해)\n",
    "    def __init__(self,np_data,transform=None): #모델에 사용할 데이터를 담아둠, 모델에 사용할 데이터 저장\n",
    "        self.data=np_data #데이터 저장\n",
    "        self.transform=transform #데이터 전처리\n",
    "        self.len=np_data.shape[0] #torch.Size([60000, 28, 28]) 첫번째가 전체 데이터 개수이기 때문에 0으로\n",
    "    def __len__(self): #데이터 개수 리턴, 학습에 사용할 데이터의 총개수 얼마만큼의 인덱스를 사용할지 반환해줌\n",
    "        return self.len\n",
    "    def __getitem__(self,idx): #index에 해당하는 데이터를 리턴해줌, numpy나 tensor형식으로 반환함\n",
    "        sample=self.data[idx]\n",
    "        if self.transform: #데이터 변환까지 하고 가져오기\n",
    "            sample = self.transform(sample)\n",
    "        return sample"
   ]
  },
  {
   "cell_type": "code",
   "execution_count": 30,
   "id": "51eed724-8067-4fdd-8b9b-c364432dc73a",
   "metadata": {},
   "outputs": [],
   "source": [
    "#transform 생성\n",
    "\n",
    "def square(sample):\n",
    "    return sample**2"
   ]
  },
  {
   "cell_type": "code",
   "execution_count": 31,
   "id": "7784ee7f-9e48-4299-a13b-c0726c7daebe",
   "metadata": {},
   "outputs": [],
   "source": [
    "transform1=transforms.Compose([square])"
   ]
  },
  {
   "cell_type": "code",
   "execution_count": 32,
   "id": "7917968d-03ad-4fb4-bada-1d89698a98a5",
   "metadata": {},
   "outputs": [
    {
     "data": {
      "text/plain": [
       "array([ 0,  1,  2,  3,  4,  5,  6,  7,  8,  9, 10, 11])"
      ]
     },
     "execution_count": 32,
     "metadata": {},
     "output_type": "execute_result"
    }
   ],
   "source": [
    "np_data = np.arange(12)\n",
    "np_data"
   ]
  },
  {
   "cell_type": "code",
   "execution_count": 33,
   "id": "7259b186-be3f-46d2-b372-dac37d1d4a68",
   "metadata": {},
   "outputs": [],
   "source": [
    "custom_dataset=Customdataset(np_data,transform=transform1)"
   ]
  },
  {
   "cell_type": "code",
   "execution_count": 34,
   "id": "ee2b4032-df03-4597-afbd-3e79001a5fa0",
   "metadata": {},
   "outputs": [
    {
     "name": "stdout",
     "output_type": "stream",
     "text": [
      "<class '__main__.Customdataset'>\n",
      "9\n",
      "12\n"
     ]
    }
   ],
   "source": [
    "print(type(custom_dataset))\n",
    "print(custom_dataset[3])\n",
    "print(len(custom_dataset))"
   ]
  },
  {
   "cell_type": "code",
   "execution_count": 35,
   "id": "66269d8c-1324-4809-978c-88edfe3bd67a",
   "metadata": {},
   "outputs": [],
   "source": [
    "custom_dataloader=DataLoader(custom_dataset,batch_size=2,shuffle=True) #데이터로더 생성"
   ]
  },
  {
   "cell_type": "code",
   "execution_count": 36,
   "id": "22b5df06-20dd-43f6-8485-4ba07ff13fb9",
   "metadata": {},
   "outputs": [
    {
     "name": "stdout",
     "output_type": "stream",
     "text": [
      "<class 'torch.utils.data.dataloader.DataLoader'>\n"
     ]
    }
   ],
   "source": [
    "print(type(custom_dataloader))"
   ]
  },
  {
   "cell_type": "code",
   "execution_count": 37,
   "id": "e5f9902f-83f0-4778-836a-d3a2a1704817",
   "metadata": {
    "tags": []
   },
   "outputs": [
    {
     "name": "stdout",
     "output_type": "stream",
     "text": [
      "tensor([ 25, 100], dtype=torch.int32)\n",
      "tensor([64,  4], dtype=torch.int32)\n",
      "tensor([121,   9], dtype=torch.int32)\n",
      "tensor([ 1, 49], dtype=torch.int32)\n",
      "tensor([36, 81], dtype=torch.int32)\n",
      "tensor([ 0, 16], dtype=torch.int32)\n",
      "========================================\n",
      "tensor([36, 64], dtype=torch.int32)\n",
      "tensor([16, 25], dtype=torch.int32)\n",
      "tensor([49,  0], dtype=torch.int32)\n",
      "tensor([  1, 121], dtype=torch.int32)\n",
      "tensor([81,  9], dtype=torch.int32)\n",
      "tensor([  4, 100], dtype=torch.int32)\n",
      "========================================\n",
      "tensor([ 1, 64], dtype=torch.int32)\n",
      "tensor([36, 81], dtype=torch.int32)\n",
      "tensor([49, 25], dtype=torch.int32)\n",
      "tensor([121, 100], dtype=torch.int32)\n",
      "tensor([16,  0], dtype=torch.int32)\n",
      "tensor([9, 4], dtype=torch.int32)\n",
      "========================================\n"
     ]
    }
   ],
   "source": [
    "for epoch in range(3): #epoch\n",
    "    for data in custom_dataloader:\n",
    "        print(data)\n",
    "    print(\"==\"*20)"
   ]
  },
  {
   "cell_type": "code",
   "execution_count": 38,
   "id": "f3553e08-aa73-4bb1-9523-c4fe51a367e8",
   "metadata": {},
   "outputs": [],
   "source": [
    "#Model 생성"
   ]
  },
  {
   "cell_type": "code",
   "execution_count": 41,
   "id": "50e72467-5719-4734-8159-11c8452719a5",
   "metadata": {},
   "outputs": [
    {
     "data": {
      "text/plain": [
       "\"\\ndevice= 'cuda' if torch.cuda.is_available() else 'cpu'\\nprint('Using {} device'.format(device))\\n#GPU사용\\n\""
      ]
     },
     "execution_count": 41,
     "metadata": {},
     "output_type": "execute_result"
    }
   ],
   "source": [
    "'''\n",
    "device= 'cuda' if torch.cuda.is_available() else 'cpu'\n",
    "print('Using {} device'.format(device))\n",
    "#GPU사용\n",
    "'''"
   ]
  },
  {
   "cell_type": "code",
   "execution_count": 42,
   "id": "fd5b101c-017c-41af-b755-3ecbe5967844",
   "metadata": {},
   "outputs": [],
   "source": [
    "import torch.nn as nn #deep learning model에 필요한 모듈이 모아져있는 패키지, 신경망을 구축하기 위한 데이터 구조나 레이어 정의"
   ]
  },
  {
   "cell_type": "code",
   "execution_count": 47,
   "id": "95aa85a4-58ca-4e85-9cf2-8b3801d123b9",
   "metadata": {},
   "outputs": [],
   "source": [
    "#Model Class만들기\n",
    "\n",
    "class NeuralNetwork(nn.Module): #nn.Module 상속\n",
    "    def __init__(self):\n",
    "        super(NeuralNetwork,self).__init__() #상위클래스상속\n",
    "        self.flatten=nn.Flatten() #28x28->flatten vector\n",
    "        self.linear_relu_stack=nn.Sequential( #한번에 묶어서\n",
    "            nn.Linear(28*28,128),\n",
    "            nn.ReLU(),\n",
    "            nn.Dropout(0.2), #주로 activation function 뒤에 적용해줌, 신경망에서 노드를 제거하여 학습하는것, 과적합될 가능성을 줄여줌 p=probability of an element to be zeroed. Default: 0.5, 20%의 노드를 사용하지 않음.\n",
    "            nn.Linear(128,10)\n",
    "        )\n",
    "        \n",
    "    def forward(self,x):\n",
    "        x=self.flatten(x)\n",
    "        logits=self.linear_relu_stack(x) #layer 2개\n",
    "        return logits\n",
    "        \n",
    "model=NeuralNetwork()     \n",
    "#Convolution->batch normalization->activation->dropout->pooling 참조:Stackoverflow"
   ]
  },
  {
   "cell_type": "code",
   "execution_count": 48,
   "id": "75e0b156-e6a4-4391-8deb-dbb828983692",
   "metadata": {},
   "outputs": [
    {
     "data": {
      "text/plain": [
       "'\\n#model instance 생성, device생성\\n\\nmodel=NeuralNetwork().to(device) #gpu로 모델 보내줌->이유:\\nprint(model)\\n'"
      ]
     },
     "execution_count": 48,
     "metadata": {},
     "output_type": "execute_result"
    }
   ],
   "source": [
    "'''\n",
    "#model instance 생성, device생성\n",
    "\n",
    "model=NeuralNetwork().to(device) #gpu로 모델 보내줌->이유:\n",
    "print(model)\n",
    "'''"
   ]
  },
  {
   "cell_type": "code",
   "execution_count": 51,
   "id": "1e476257-d8f3-45e2-87ce-a0ca30a6df5b",
   "metadata": {
    "collapsed": true,
    "jupyter": {
     "outputs_hidden": true
    },
    "tags": []
   },
   "outputs": [
    {
     "name": "stdout",
     "output_type": "stream",
     "text": [
      "tensor([[[2.6401e-02, 3.2101e-01, 2.2064e-01, 6.3331e-02, 3.4476e-01,\n",
      "          8.8958e-02, 8.5669e-01, 6.8498e-01, 5.4480e-01, 8.6854e-02,\n",
      "          7.5178e-01, 4.9991e-01, 7.3163e-01, 2.6919e-01, 1.8189e-01,\n",
      "          3.4447e-01, 5.1891e-01, 3.4605e-01, 4.5626e-01, 1.7675e-01,\n",
      "          3.1271e-01, 2.9783e-01, 3.5606e-01, 5.3357e-01, 5.0089e-01,\n",
      "          6.2711e-01, 1.3469e-01, 3.4988e-01],\n",
      "         [4.5517e-01, 6.1199e-01, 5.4813e-01, 7.4112e-01, 8.9315e-01,\n",
      "          9.2759e-01, 7.7536e-01, 4.8713e-01, 1.0704e-01, 2.5221e-02,\n",
      "          5.6369e-01, 2.4057e-01, 6.2040e-01, 3.0202e-01, 8.5381e-01,\n",
      "          1.4882e-01, 2.0220e-02, 8.0991e-01, 8.2042e-01, 3.4333e-01,\n",
      "          9.7369e-01, 6.6996e-01, 3.8722e-01, 9.7454e-01, 5.5271e-02,\n",
      "          7.3405e-01, 4.3702e-01, 9.0499e-01],\n",
      "         [4.0425e-01, 2.7907e-01, 7.3207e-01, 6.6640e-01, 3.7923e-01,\n",
      "          4.7999e-01, 1.4658e-01, 4.0645e-01, 8.6010e-01, 1.9437e-01,\n",
      "          9.8214e-01, 8.1734e-01, 7.2229e-01, 2.7956e-01, 7.2362e-01,\n",
      "          3.1227e-03, 6.7879e-01, 8.2274e-01, 8.0221e-01, 4.8393e-01,\n",
      "          8.6071e-01, 6.2550e-01, 5.3626e-01, 9.6295e-01, 3.4587e-01,\n",
      "          7.1916e-01, 4.9305e-01, 8.7286e-01],\n",
      "         [2.4807e-01, 5.7506e-01, 8.9190e-01, 5.5473e-01, 7.0310e-04,\n",
      "          2.3178e-01, 8.0078e-01, 5.8789e-01, 6.9188e-01, 2.4681e-01,\n",
      "          4.6108e-01, 2.8084e-01, 3.9199e-01, 7.0533e-01, 7.9988e-01,\n",
      "          7.0375e-01, 8.1842e-01, 8.7538e-02, 1.1449e-01, 4.7084e-01,\n",
      "          3.4389e-01, 9.8712e-01, 2.1052e-01, 9.3722e-01, 9.7303e-01,\n",
      "          4.7717e-01, 7.5121e-01, 8.1942e-01],\n",
      "         [6.7968e-01, 2.6034e-01, 7.2614e-01, 1.7018e-01, 9.6302e-02,\n",
      "          5.5326e-01, 5.9753e-01, 3.0105e-01, 9.3968e-01, 9.4907e-01,\n",
      "          5.1039e-01, 2.8647e-01, 7.0152e-01, 3.8543e-01, 5.6884e-01,\n",
      "          8.5234e-02, 7.4125e-01, 3.0528e-01, 6.0627e-01, 4.5398e-01,\n",
      "          2.8288e-01, 2.2959e-01, 2.4863e-01, 4.6946e-01, 8.4678e-01,\n",
      "          6.4517e-01, 3.4519e-01, 9.2759e-01],\n",
      "         [8.1067e-01, 8.0378e-01, 7.7259e-01, 6.8127e-01, 9.3328e-01,\n",
      "          1.5459e-01, 1.6584e-01, 9.0735e-01, 8.8036e-01, 1.3346e-02,\n",
      "          3.8568e-01, 4.5515e-01, 1.7327e-01, 9.4105e-01, 2.8320e-01,\n",
      "          7.9057e-01, 6.6530e-01, 3.4961e-02, 2.3980e-01, 1.9623e-01,\n",
      "          6.2255e-01, 5.2052e-01, 7.0870e-01, 8.6157e-01, 4.6026e-01,\n",
      "          1.5288e-01, 5.4786e-01, 3.3919e-01],\n",
      "         [3.9937e-01, 8.3594e-02, 5.3308e-03, 3.6447e-01, 3.1452e-01,\n",
      "          7.7060e-01, 5.6509e-01, 3.2196e-02, 7.8291e-01, 9.7289e-01,\n",
      "          4.4133e-01, 8.7053e-01, 3.8480e-01, 7.6913e-01, 3.4960e-01,\n",
      "          6.7083e-01, 1.5632e-01, 1.1305e-02, 1.1686e-01, 3.7952e-01,\n",
      "          9.2074e-01, 5.2118e-01, 8.9678e-01, 3.1371e-01, 9.1726e-01,\n",
      "          8.6375e-01, 8.0762e-01, 4.6454e-01],\n",
      "         [1.9448e-02, 7.2226e-02, 7.6632e-01, 2.1017e-01, 5.7665e-01,\n",
      "          6.8363e-02, 9.0453e-01, 1.4866e-01, 2.9203e-01, 3.7648e-01,\n",
      "          1.5545e-01, 6.5790e-01, 7.8445e-01, 5.3995e-01, 7.1064e-01,\n",
      "          7.7290e-01, 4.9558e-01, 6.7473e-01, 1.0199e-01, 6.9857e-01,\n",
      "          8.7655e-01, 6.7432e-01, 5.8078e-01, 2.2544e-01, 6.9469e-01,\n",
      "          3.1872e-01, 6.5832e-01, 7.7132e-01],\n",
      "         [6.7691e-01, 3.2129e-01, 4.9885e-01, 1.0161e-01, 7.4625e-01,\n",
      "          2.4819e-01, 7.4473e-01, 2.1329e-01, 2.9734e-01, 5.8510e-01,\n",
      "          7.9524e-01, 9.7102e-01, 6.8069e-01, 4.7809e-01, 2.9585e-01,\n",
      "          6.5488e-02, 4.3270e-01, 6.1219e-01, 4.2944e-01, 1.4520e-01,\n",
      "          9.5324e-01, 4.7378e-02, 5.4385e-01, 3.1513e-02, 4.9804e-02,\n",
      "          9.6964e-01, 6.8659e-01, 5.2558e-01],\n",
      "         [2.7331e-01, 1.7414e-01, 5.8564e-01, 3.8391e-01, 9.1497e-01,\n",
      "          2.5766e-01, 3.6028e-01, 9.5765e-01, 1.2422e-02, 9.7850e-01,\n",
      "          9.5863e-01, 6.5060e-01, 6.0059e-01, 8.6738e-01, 1.8429e-01,\n",
      "          2.1966e-01, 8.9953e-01, 4.8201e-01, 4.4871e-01, 2.7112e-01,\n",
      "          6.8153e-02, 9.3251e-01, 7.4248e-01, 6.1000e-01, 1.6767e-01,\n",
      "          1.8009e-01, 4.0608e-01, 7.2419e-01],\n",
      "         [3.2420e-01, 1.8325e-01, 6.2023e-01, 3.1362e-01, 3.5051e-01,\n",
      "          5.4269e-01, 3.7454e-01, 3.7653e-01, 7.5826e-01, 7.4781e-02,\n",
      "          7.7515e-01, 7.9207e-01, 7.9734e-01, 7.5465e-01, 1.9547e-01,\n",
      "          6.0229e-01, 9.5294e-01, 4.5441e-01, 9.9725e-01, 2.2529e-01,\n",
      "          3.7363e-01, 1.9669e-01, 1.4163e-01, 5.2502e-02, 4.1143e-02,\n",
      "          5.6722e-02, 8.7092e-01, 8.8964e-01],\n",
      "         [9.8294e-01, 6.2506e-01, 2.2652e-01, 9.2600e-01, 8.4066e-01,\n",
      "          7.7003e-01, 8.3692e-01, 2.5349e-01, 2.9011e-01, 2.7828e-01,\n",
      "          3.8606e-02, 9.5431e-01, 5.2864e-01, 3.6926e-01, 9.5912e-01,\n",
      "          4.8542e-02, 9.0032e-01, 8.1095e-01, 5.8658e-01, 4.3656e-01,\n",
      "          4.9967e-01, 6.2297e-02, 2.3817e-01, 8.1044e-01, 8.0538e-01,\n",
      "          1.1520e-01, 8.3757e-02, 6.3032e-01],\n",
      "         [9.9641e-01, 9.2904e-01, 2.1505e-01, 6.0743e-01, 8.8566e-02,\n",
      "          7.0121e-01, 2.6647e-01, 6.4019e-01, 2.8477e-01, 7.6031e-01,\n",
      "          5.5088e-01, 2.5491e-01, 7.2060e-01, 9.2527e-01, 6.6169e-01,\n",
      "          5.9913e-01, 8.9400e-01, 9.6488e-01, 4.5484e-01, 6.3126e-01,\n",
      "          1.6103e-01, 7.3645e-01, 3.2930e-01, 9.1989e-01, 8.9147e-01,\n",
      "          8.5670e-01, 9.1999e-01, 6.1147e-01],\n",
      "         [5.2362e-01, 6.2245e-01, 1.2128e-01, 9.3429e-02, 8.6364e-01,\n",
      "          3.7742e-02, 4.7736e-01, 4.6663e-01, 3.2452e-01, 3.0910e-02,\n",
      "          1.8314e-01, 1.1578e-01, 1.8802e-01, 5.7592e-02, 5.7714e-02,\n",
      "          4.5684e-01, 5.0750e-01, 2.0324e-01, 4.8837e-01, 1.6528e-01,\n",
      "          3.2083e-01, 1.6633e-01, 7.1550e-01, 9.6664e-01, 6.9839e-01,\n",
      "          4.3077e-01, 4.5951e-01, 1.7507e-01],\n",
      "         [7.3343e-01, 9.4879e-01, 1.9035e-01, 1.8126e-02, 1.1623e-01,\n",
      "          1.3433e-01, 5.5868e-01, 7.3164e-02, 6.4943e-01, 2.0494e-01,\n",
      "          5.2179e-01, 3.4003e-01, 5.8898e-02, 6.5399e-01, 1.7860e-01,\n",
      "          3.4359e-01, 4.4717e-01, 9.0381e-01, 3.6079e-01, 8.2504e-01,\n",
      "          7.4811e-01, 8.9868e-01, 1.3783e-01, 2.7541e-01, 3.6292e-01,\n",
      "          7.7519e-01, 4.4691e-01, 7.2616e-01],\n",
      "         [6.3523e-01, 4.0251e-01, 3.3808e-01, 9.3433e-01, 4.3771e-01,\n",
      "          4.4500e-01, 6.1053e-01, 1.0261e-01, 5.1394e-01, 6.2899e-01,\n",
      "          3.0394e-01, 2.6087e-01, 8.5503e-01, 1.4521e-01, 6.1639e-01,\n",
      "          4.9226e-02, 1.4174e-01, 8.8981e-01, 4.7793e-01, 1.4073e-01,\n",
      "          4.3537e-02, 3.9525e-01, 4.2616e-01, 6.2805e-01, 4.5806e-01,\n",
      "          6.1525e-01, 2.3686e-02, 2.8203e-02],\n",
      "         [2.4592e-01, 5.4602e-01, 6.7347e-01, 3.7087e-01, 1.5584e-01,\n",
      "          4.1666e-01, 8.8358e-01, 7.5780e-01, 2.6418e-01, 1.1297e-01,\n",
      "          8.8699e-01, 1.4062e-01, 7.0649e-01, 2.4630e-01, 4.1677e-01,\n",
      "          5.5650e-01, 9.1579e-01, 6.0085e-01, 8.3918e-01, 3.3043e-01,\n",
      "          5.8327e-01, 5.1114e-01, 2.4319e-01, 3.2911e-01, 6.9410e-01,\n",
      "          4.6951e-01, 1.6040e-01, 3.9515e-01],\n",
      "         [2.4822e-01, 4.6454e-01, 8.6972e-01, 8.9399e-02, 1.3134e-01,\n",
      "          3.8355e-01, 7.5601e-01, 4.2081e-01, 1.7202e-01, 8.8771e-01,\n",
      "          7.3455e-01, 7.9821e-01, 5.7778e-01, 5.0967e-01, 9.5420e-01,\n",
      "          8.1881e-01, 2.2934e-01, 4.9303e-01, 7.7333e-01, 7.2328e-01,\n",
      "          2.0773e-01, 9.2778e-01, 6.2043e-01, 2.2298e-01, 2.2601e-01,\n",
      "          3.9388e-01, 5.6896e-01, 7.8058e-01],\n",
      "         [8.6228e-01, 1.9901e-01, 5.8371e-01, 3.4602e-01, 3.2867e-02,\n",
      "          8.1275e-02, 3.6849e-01, 3.9712e-03, 2.4706e-01, 1.6834e-01,\n",
      "          3.6986e-01, 4.7829e-01, 5.9536e-01, 5.3332e-01, 4.7108e-01,\n",
      "          4.8349e-01, 4.0012e-01, 3.9774e-01, 7.5252e-01, 2.0078e-01,\n",
      "          8.7232e-01, 3.5100e-01, 3.8803e-01, 8.3693e-01, 9.7416e-02,\n",
      "          9.5379e-01, 8.3552e-01, 9.2307e-01],\n",
      "         [4.5566e-01, 7.6223e-01, 4.7821e-02, 4.6792e-01, 4.6708e-01,\n",
      "          1.4079e-01, 7.5319e-01, 2.2581e-01, 2.0131e-01, 6.0505e-01,\n",
      "          3.9140e-02, 5.3964e-01, 5.3605e-01, 6.6664e-03, 6.2384e-01,\n",
      "          4.5781e-01, 1.2664e-02, 3.5889e-01, 5.9520e-01, 4.3346e-01,\n",
      "          4.3816e-01, 6.1297e-02, 9.2168e-01, 2.5551e-01, 2.2046e-01,\n",
      "          1.9186e-01, 9.9150e-01, 4.9004e-01],\n",
      "         [9.8072e-01, 2.9291e-01, 8.9208e-01, 8.3227e-02, 8.7166e-01,\n",
      "          5.5631e-01, 2.1691e-01, 1.6520e-01, 6.2028e-02, 9.3014e-01,\n",
      "          6.3050e-02, 1.0931e-01, 1.1230e-01, 3.2479e-01, 1.2185e-01,\n",
      "          9.6550e-02, 3.8823e-01, 2.0107e-01, 3.1505e-01, 5.7371e-01,\n",
      "          6.4247e-01, 9.4463e-01, 9.5150e-01, 1.9300e-01, 7.6814e-01,\n",
      "          6.8531e-01, 8.2629e-01, 5.7473e-01],\n",
      "         [7.6454e-01, 9.1598e-01, 9.1347e-01, 4.9630e-01, 3.0660e-01,\n",
      "          2.0419e-01, 2.6710e-01, 5.7610e-01, 2.5033e-01, 3.3961e-01,\n",
      "          2.2746e-01, 1.3730e-01, 4.0419e-01, 5.8941e-01, 7.7159e-02,\n",
      "          2.2240e-01, 8.5422e-01, 4.1442e-02, 7.7786e-02, 3.2646e-02,\n",
      "          1.7786e-01, 5.1065e-01, 6.7253e-01, 5.9479e-01, 1.3333e-01,\n",
      "          9.2607e-01, 3.2611e-01, 5.5823e-01],\n",
      "         [5.5861e-01, 8.2085e-01, 9.1549e-01, 2.1008e-01, 9.3225e-01,\n",
      "          3.2286e-02, 9.5087e-01, 7.6463e-01, 1.2546e-01, 4.6915e-01,\n",
      "          9.9442e-02, 7.1944e-01, 8.4359e-01, 6.7003e-01, 5.1045e-01,\n",
      "          4.5450e-01, 6.4582e-01, 4.8357e-01, 1.3893e-01, 8.5841e-01,\n",
      "          8.9252e-01, 6.6008e-01, 8.0544e-01, 8.3978e-01, 7.0971e-01,\n",
      "          2.9299e-01, 3.3468e-03, 4.2401e-01],\n",
      "         [2.2290e-01, 4.4379e-01, 2.2740e-01, 3.6046e-02, 8.0470e-02,\n",
      "          4.6389e-01, 4.8850e-01, 6.7268e-01, 2.7216e-01, 4.7959e-01,\n",
      "          5.1313e-01, 9.1881e-01, 6.3255e-01, 1.1870e-01, 6.5390e-01,\n",
      "          3.5998e-01, 7.9232e-01, 9.0370e-01, 4.6401e-02, 5.2610e-01,\n",
      "          8.9610e-01, 8.8748e-01, 7.7087e-01, 7.2340e-01, 7.4367e-01,\n",
      "          5.6339e-01, 6.6263e-01, 3.3392e-01],\n",
      "         [6.6708e-01, 3.7975e-01, 4.9586e-01, 3.7503e-01, 8.6399e-01,\n",
      "          5.6740e-01, 3.5429e-01, 9.3001e-01, 5.3701e-01, 7.2080e-01,\n",
      "          7.2129e-01, 9.8414e-01, 8.8687e-01, 7.4126e-01, 2.0904e-02,\n",
      "          5.0134e-01, 9.1502e-01, 5.2959e-01, 4.0054e-02, 6.7828e-01,\n",
      "          6.7460e-01, 5.7906e-01, 6.4813e-01, 3.0874e-01, 6.4272e-01,\n",
      "          5.3313e-01, 3.3367e-01, 7.5620e-01],\n",
      "         [3.9000e-01, 4.6281e-01, 5.3410e-01, 6.0156e-01, 5.7578e-02,\n",
      "          1.7206e-01, 6.6895e-01, 4.4625e-01, 6.7118e-01, 7.6605e-03,\n",
      "          6.2034e-01, 7.0611e-01, 6.0282e-01, 2.8651e-01, 8.0594e-01,\n",
      "          6.9166e-01, 4.4678e-01, 7.1633e-01, 3.1458e-01, 8.0986e-01,\n",
      "          1.8222e-01, 6.2573e-01, 7.3953e-01, 4.4736e-01, 7.9319e-01,\n",
      "          2.0912e-01, 4.0036e-01, 5.3324e-01],\n",
      "         [5.9052e-01, 2.7019e-01, 4.4245e-01, 2.5871e-01, 5.5062e-01,\n",
      "          7.9969e-01, 2.0454e-01, 5.9072e-01, 6.6809e-01, 4.8455e-01,\n",
      "          7.3226e-01, 9.0593e-01, 3.9685e-01, 9.2224e-01, 4.6364e-01,\n",
      "          9.6736e-01, 9.2249e-01, 3.3629e-01, 2.6672e-01, 4.0111e-02,\n",
      "          7.7246e-01, 4.0667e-01, 5.7948e-01, 6.5187e-01, 4.4983e-01,\n",
      "          9.0439e-01, 4.8330e-01, 6.7596e-01],\n",
      "         [9.4216e-01, 3.0424e-01, 9.9122e-01, 4.7089e-01, 2.6989e-02,\n",
      "          1.1822e-01, 3.1084e-01, 2.9644e-01, 8.7192e-01, 8.4433e-01,\n",
      "          1.4803e-01, 1.3101e-01, 5.4818e-01, 5.5909e-01, 8.5212e-01,\n",
      "          4.9692e-01, 3.0371e-01, 1.0789e-01, 6.3952e-01, 4.0662e-01,\n",
      "          5.2842e-03, 2.7296e-01, 5.3030e-01, 8.6984e-01, 7.9084e-01,\n",
      "          5.1656e-02, 1.8005e-01, 5.4134e-01]]])\n",
      "predicted class:tensor([4])\n"
     ]
    }
   ],
   "source": [
    "#random data만들어 예측\n",
    "\n",
    "X=torch.rand(1,28,28)\n",
    "print(X)\n",
    "logits=model(X) #10개의 텐서값으로 반환\n",
    "pred_probab=nn.Softmax(dim=1)(logits) #softmax->적용 전체합이 1이되도록 반환 loss.function\n",
    "y_pred=pred_probab.argmax(1) #텐서에 있는 가장 큰값 인덱스 추출, 행기준이기 때문에 1을넣어줌 열기준이면 0\n",
    "print(f'predicted class:{y_pred}')"
   ]
  },
  {
   "cell_type": "code",
   "execution_count": 52,
   "id": "8eb86f09-790a-4091-ac75-656c8e7e71c4",
   "metadata": {},
   "outputs": [
    {
     "name": "stdout",
     "output_type": "stream",
     "text": [
      "tensor([[-0.2773,  0.0631,  0.0208,  0.1170,  0.1402, -0.1274, -0.1204, -0.1503,\n",
      "         -0.0758,  0.0934]], grad_fn=<AddmmBackward0>)\n",
      "tensor([[0.0776, 0.1090, 0.1045, 0.1150, 0.1177, 0.0901, 0.0907, 0.0881, 0.0949,\n",
      "         0.1124]], grad_fn=<SoftmaxBackward0>)\n",
      "tensor(1.0000, grad_fn=<SumBackward0>)\n",
      "tensor(4)\n"
     ]
    }
   ],
   "source": [
    "print(logits) #10개의 출력값 반환\n",
    "print(pred_probab) #0~1사이 확률값, softmax함수를 거쳐서\n",
    "print(torch.sum(pred_probab)) #10개의 확률을 더하면 1\n",
    "y_pred=torch.argmax(pred_probab) #가장 큰 확률을 가진 인덱스 값\n",
    "print(y_pred) #가장큰값 인덱스 반환"
   ]
  },
  {
   "cell_type": "code",
   "execution_count": 54,
   "id": "527712e1-4898-4ec7-b3a4-45c18e99b195",
   "metadata": {},
   "outputs": [
    {
     "data": {
      "text/plain": [
       "'\\ny_pred=pred_probab.argmax(1)\\nprint(y_pred)\\n'"
      ]
     },
     "execution_count": 54,
     "metadata": {},
     "output_type": "execute_result"
    }
   ],
   "source": [
    "'''\n",
    "y_pred=pred_probab.argmax(1)\n",
    "print(y_pred)\n",
    "'''"
   ]
  },
  {
   "cell_type": "code",
   "execution_count": 55,
   "id": "9beb096c-4d93-4188-9a95-5317331ead75",
   "metadata": {},
   "outputs": [
    {
     "data": {
      "text/plain": [
       "'\\n50000/64\\n'"
      ]
     },
     "execution_count": 55,
     "metadata": {},
     "output_type": "execute_result"
    }
   ],
   "source": [
    "'''\n",
    "50000/64\n",
    "'''"
   ]
  },
  {
   "cell_type": "code",
   "execution_count": 56,
   "id": "a4db66ca-2654-4ce1-bcb5-51e20d2c7d77",
   "metadata": {},
   "outputs": [],
   "source": [
    "######실제데이터 Training"
   ]
  },
  {
   "cell_type": "code",
   "execution_count": 57,
   "id": "2545de1d-c05d-4dbf-a2af-bd6eabd678f7",
   "metadata": {},
   "outputs": [],
   "source": [
    "loss_fn=nn.CrossEntropyLoss() #다중분류"
   ]
  },
  {
   "cell_type": "code",
   "execution_count": 58,
   "id": "de6e1f3e-e2b7-4127-b41e-d4a025d5fd8c",
   "metadata": {},
   "outputs": [],
   "source": [
    "#optimizer\n",
    "import torch.optim as optim #학습에 관련된 optimizing method가 있는 패키지"
   ]
  },
  {
   "cell_type": "code",
   "execution_count": 59,
   "id": "02bdbc65-030e-498b-814e-c7d77c331662",
   "metadata": {},
   "outputs": [],
   "source": [
    "learning_rate=1e-3\n",
    "optimizer=torch.optim.Adam(model.parameters(),lr=learning_rate) #weight update"
   ]
  },
  {
   "cell_type": "code",
   "execution_count": 122,
   "id": "1df3f73e-a082-4fd2-aaa5-7ae380658894",
   "metadata": {},
   "outputs": [],
   "source": [
    "#load the Tensorboard\n",
    "%load_ext tensorboard"
   ]
  },
  {
   "cell_type": "code",
   "execution_count": 123,
   "id": "ce36e4a2-8865-4c07-ae50-a9fd0fce9669",
   "metadata": {},
   "outputs": [],
   "source": [
    "from torch.utils.tensorboard import SummaryWriter\n",
    "\n",
    "writer = SummaryWriter('./logs/Tensorboard')"
   ]
  },
  {
   "cell_type": "code",
   "execution_count": 128,
   "id": "94449bee-e923-487e-bc7a-cd25cea5dbdd",
   "metadata": {},
   "outputs": [
    {
     "name": "stdout",
     "output_type": "stream",
     "text": [
      "NeuralNetwork(\n",
      "  (flatten): Flatten(start_dim=1, end_dim=-1)\n",
      "  (linear_relu_stack): Sequential(\n",
      "    (0): Linear(in_features=784, out_features=128, bias=True)\n",
      "    (1): ReLU()\n",
      "    (2): Dropout(p=0.2, inplace=False)\n",
      "    (3): Linear(in_features=128, out_features=10, bias=True)\n",
      "  )\n",
      ")\n"
     ]
    }
   ],
   "source": [
    "# 새모델 instance 생성\n",
    "\n",
    "model1=NeuralNetwork()\n",
    "print(model1)"
   ]
  },
  {
   "cell_type": "code",
   "execution_count": 131,
   "id": "73d64647-81c0-435b-82c2-4f68a0e8bf83",
   "metadata": {},
   "outputs": [
    {
     "name": "stdout",
     "output_type": "stream",
     "text": [
      "데이터 전체 사이즈:10000, 총 배치수:157\n",
      "Test Error :\n",
      " Accuracy:  10.4%, AVG loss: 2.294030 \n",
      "\n"
     ]
    },
    {
     "data": {
      "text/plain": [
       "2.2940297855693066"
      ]
     },
     "execution_count": 131,
     "metadata": {},
     "output_type": "execute_result"
    }
   ],
   "source": [
    "model1.eval()\n",
    "test_loop(testloader,model1,loss_fn) #학습안된 상태로 나옴"
   ]
  },
  {
   "cell_type": "code",
   "execution_count": null,
   "id": "53662f82-9006-4a08-8670-5782ee857d0c",
   "metadata": {},
   "outputs": [],
   "source": []
  },
  {
   "cell_type": "code",
   "execution_count": 134,
   "id": "06a7f48b-38fa-48ef-a8a0-dab44d6fe6b1",
   "metadata": {},
   "outputs": [],
   "source": [
    "#모델 학습 Part\n",
    "\n",
    "\n",
    "def train_loop(dataloader,model,loss_fn,optimizer):\n",
    "    size=len(dataloader.dataset) #데이터의 전체개수\n",
    "    num_batches_train=len(dataloader)\n",
    "    total_loss=0.0\n",
    "    print(f'데이터 전체 사이즈:{size}, 총 배치수:{num_batches_train}') #1\n",
    "    for batch, data in enumerate(dataloader): #이미지와 라벨값 추출 배치단위로, batch 써준이유는 밑에 200번의 배치마다 Loss값을 출력하기위함,0부터 시작\n",
    "        inputs,labels=data\n",
    "        pred=model(inputs) #dataloader에서 이미지 데이터 부분을 학습\n",
    "        loss=loss_fn(pred,labels) #model을통해 나온 최종 예측값, 실제 라벨값과의 차이를 계산해주는 부분.\n",
    "        \n",
    "        #backpropagation\n",
    "        optimizer.zero_grad() #이전 데이터의 미분값이 다음 데이터 역전파의 미분값에 누적되는 것을 방지하기 위해 사용\n",
    "        loss.backward() #backpropagation\n",
    "        optimizer.step() #weight bias step마다 업데이트\n",
    "        \n",
    "        if batch % 200 == 0: #200번 배치마다 loss값 출력, 현재까지 몇개했는지 출력\n",
    "            loss,current = loss.item(), batch * len(X) # 64개의 로스 평균값임-> loss=0,200,,400번째 loss 0.17171473801136017이런식으로 나옴 current= [0:937]*64\n",
    "            print(f'current: {current}') #0\n",
    "            print(f'loss: {loss:>7f} [{current:5d}/{num_batches_train:>5d}]') #0.163\n",
    "        total_loss += loss/ len(dataloader) # sum(loss[batch[index]])/987,987개 배치에대한 loss값 다 더해준후 batch 개수로 나눠줌\n",
    "    return total_loss\n",
    "\n",
    "            \n",
    "# For Test\n",
    "def test_loop(dataloader,model,loss_fn):\n",
    "    size=len(dataloader.dataset) #10000\n",
    "    num_batches=len(dataloader) #전체데이터를 배치로 나눈 길이 10000/64=157\n",
    "    print(f'데이터 전체 사이즈:{size}, 총 배치수:{num_batches}')\n",
    "    test_loss, correct= 0,0 #0으로만들어주고 시작\n",
    "    \n",
    "    with torch.no_grad(): #gradient 계산 X\n",
    "        for data in dataloader:\n",
    "            images, labels= data\n",
    "            pred=model(images)\n",
    "            test_loss += loss_fn(pred,labels).item() #torch tensor중 scalar값을 뽑아줌, batch당 loss값 더해줌 총 157번 더해줌 ex) 0.5587,,,,,157개\n",
    "            correct += (pred.argmax(1) ==labels).type(torch.float).sum().item() #각 배치 64개마다 맞춘 개수 더해줌 총 8735개 correctn ex)[54.0, 112.0]\n",
    "            \n",
    "            \n",
    "    test_loss/=num_batches #전체loss sum/157->\n",
    "    correct /= size #배치당 correct개수/10000->\n",
    "    print(f'Test Error :\\n Accuracy: {(100*correct): 0.1f}%, AVG loss: {test_loss: >7f} \\n')\n",
    "    return test_loss"
   ]
  },
  {
   "cell_type": "code",
   "execution_count": 135,
   "id": "fe1489e5-38e6-4a99-90b6-c5f809e5cd6b",
   "metadata": {
    "tags": []
   },
   "outputs": [
    {
     "name": "stdout",
     "output_type": "stream",
     "text": [
      "Epoch 1\n",
      "-----------\n",
      "데이터 전체 사이즈:60000, 총 배치수:938\n",
      "current: 0\n",
      "loss: 0.309102 [    0/60000]\n",
      "current: 200\n",
      "loss: 0.361382 [  200/60000]\n",
      "current: 400\n",
      "loss: 0.098633 [  400/60000]\n",
      "current: 600\n",
      "loss: 0.156452 [  600/60000]\n",
      "current: 800\n",
      "loss: 0.141860 [  800/60000]\n",
      "데이터 전체 사이즈:10000, 총 배치수:157\n",
      "Test Error :\n",
      " Accuracy:  87.4%, AVG loss: 0.429018 \n",
      "\n",
      "Epoch 2\n",
      "-----------\n",
      "데이터 전체 사이즈:60000, 총 배치수:938\n",
      "current: 0\n",
      "loss: 0.320395 [    0/60000]\n",
      "current: 200\n",
      "loss: 0.107814 [  200/60000]\n",
      "current: 400\n",
      "loss: 0.234240 [  400/60000]\n",
      "current: 600\n",
      "loss: 0.204959 [  600/60000]\n",
      "current: 800\n",
      "loss: 0.084890 [  800/60000]\n",
      "데이터 전체 사이즈:10000, 총 배치수:157\n",
      "Test Error :\n",
      " Accuracy:  87.7%, AVG loss: 0.437787 \n",
      "\n",
      "Epoch 3\n",
      "-----------\n",
      "데이터 전체 사이즈:60000, 총 배치수:938\n",
      "current: 0\n",
      "loss: 0.079340 [    0/60000]\n",
      "current: 200\n",
      "loss: 0.192354 [  200/60000]\n",
      "current: 400\n",
      "loss: 0.214144 [  400/60000]\n",
      "current: 600\n",
      "loss: 0.181047 [  600/60000]\n",
      "current: 800\n",
      "loss: 0.123154 [  800/60000]\n",
      "데이터 전체 사이즈:10000, 총 배치수:157\n",
      "Test Error :\n",
      " Accuracy:  87.5%, AVG loss: 0.443380 \n",
      "\n",
      "Epoch 4\n",
      "-----------\n",
      "데이터 전체 사이즈:60000, 총 배치수:938\n",
      "current: 0\n",
      "loss: 0.129567 [    0/60000]\n",
      "current: 200\n",
      "loss: 0.088382 [  200/60000]\n",
      "current: 400\n",
      "loss: 0.141054 [  400/60000]\n",
      "current: 600\n",
      "loss: 0.230834 [  600/60000]\n",
      "current: 800\n",
      "loss: 0.127774 [  800/60000]\n",
      "데이터 전체 사이즈:10000, 총 배치수:157\n",
      "Test Error :\n",
      " Accuracy:  87.3%, AVG loss: 0.459727 \n",
      "\n",
      "Epoch 5\n",
      "-----------\n",
      "데이터 전체 사이즈:60000, 총 배치수:938\n",
      "current: 0\n",
      "loss: 0.170476 [    0/60000]\n",
      "current: 200\n",
      "loss: 0.171327 [  200/60000]\n",
      "current: 400\n",
      "loss: 0.044264 [  400/60000]\n",
      "current: 600\n",
      "loss: 0.115445 [  600/60000]\n",
      "current: 800\n",
      "loss: 0.296608 [  800/60000]\n",
      "데이터 전체 사이즈:10000, 총 배치수:157\n",
      "Test Error :\n",
      " Accuracy:  87.8%, AVG loss: 0.423923 \n",
      "\n",
      "학습 완료\n"
     ]
    }
   ],
   "source": [
    "#학습 진행\n",
    "parameters=['weight1','bias1', 'weight2', 'bias']\n",
    "\n",
    "epochs = 5\n",
    "for t in range(epochs):\n",
    "    print(f'Epoch {t+1}\\n-----------')\n",
    "    train_loss=train_loop(trainloader,model,loss_fn,optimizer)\n",
    "    writer.add_scalar('train_loss',train_loss,t) #writer.add_scalar(제목,표현할 값,epoch값), 한그래프에 여러 변수를 그릴경우에 dict형태로 넘겨준다,\n",
    "    for param, name in zip(model.parameters(),parameters):\n",
    "        writer.add_histogram(name,param,t) #EPOCH마다 저장\n",
    "    test_loss=test_loop(testloader,model,loss_fn)\n",
    "    writer.add_scalar('test_loss', test_loss,t)\n",
    "print('학습 완료')"
   ]
  },
  {
   "cell_type": "code",
   "execution_count": 136,
   "id": "6730d9e5-a876-4fcd-b9d7-cdd6477c0df1",
   "metadata": {},
   "outputs": [],
   "source": [
    "writer.close()"
   ]
  },
  {
   "cell_type": "code",
   "execution_count": 137,
   "id": "42edf08a-81ac-4aad-bdeb-559472b9192b",
   "metadata": {},
   "outputs": [
    {
     "data": {
      "text/html": [
       "\n",
       "      <iframe id=\"tensorboard-frame-a8f7e8ce2bb85013\" width=\"100%\" height=\"800\" frameborder=\"0\">\n",
       "      </iframe>\n",
       "      <script>\n",
       "        (function() {\n",
       "          const frame = document.getElementById(\"tensorboard-frame-a8f7e8ce2bb85013\");\n",
       "          const url = new URL(\"/\", window.location);\n",
       "          const port = 6006;\n",
       "          if (port) {\n",
       "            url.port = port;\n",
       "          }\n",
       "          frame.src = url;\n",
       "        })();\n",
       "      </script>\n",
       "    "
      ],
      "text/plain": [
       "<IPython.core.display.HTML object>"
      ]
     },
     "metadata": {},
     "output_type": "display_data"
    }
   ],
   "source": [
    "%tensorboard --logdir './logs/Tensorboard'"
   ]
  },
  {
   "cell_type": "code",
   "execution_count": null,
   "id": "4b0e477b-f561-47fd-82e5-69a619b67616",
   "metadata": {},
   "outputs": [],
   "source": []
  }
 ],
 "metadata": {
  "kernelspec": {
   "display_name": "Python 3 (ipykernel)",
   "language": "python",
   "name": "python3"
  },
  "language_info": {
   "codemirror_mode": {
    "name": "ipython",
    "version": 3
   },
   "file_extension": ".py",
   "mimetype": "text/x-python",
   "name": "python",
   "nbconvert_exporter": "python",
   "pygments_lexer": "ipython3",
   "version": "3.7.13"
  }
 },
 "nbformat": 4,
 "nbformat_minor": 5
}
