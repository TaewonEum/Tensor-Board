{
 "cells": [
  {
   "cell_type": "code",
   "execution_count": 1,
   "id": "ceee31fd-f54a-41fe-9c38-6e5ab8b99d3e",
   "metadata": {},
   "outputs": [],
   "source": [
    "#Dataset/Dataloader 실습"
   ]
  },
  {
   "cell_type": "code",
   "execution_count": 2,
   "id": "696a0d1a-2047-4421-83fb-920e34ad40b9",
   "metadata": {},
   "outputs": [],
   "source": [
    "#Dataset=data와 label저장\n",
    "#Dataloader=iterable한 객체로 감싸줘서 모델에 공급될 수 있도록 데이터 불러옴"
   ]
  },
  {
   "cell_type": "code",
   "execution_count": 3,
   "id": "ddb65452-e6c3-463c-9085-fce477824e70",
   "metadata": {},
   "outputs": [],
   "source": [
    "#library import\n",
    "import torch\n",
    "import torchvision\n",
    "import torchvision.transforms as transforms\n",
    "from torch.utils.data import Dataset, DataLoader\n",
    "import numpy as np"
   ]
  },
  {
   "cell_type": "code",
   "execution_count": 4,
   "id": "b096c0cc-2c38-4998-a472-a8a9fb30ee1b",
   "metadata": {},
   "outputs": [
    {
     "data": {
      "text/plain": [
       "<torch._C.Generator at 0x258bfb4aeb0>"
      ]
     },
     "execution_count": 4,
     "metadata": {},
     "output_type": "execute_result"
    }
   ],
   "source": [
    "# 고정\n",
    "torch.manual_seed(42)"
   ]
  },
  {
   "cell_type": "code",
   "execution_count": 5,
   "id": "83311b44-f7bd-40d2-b5d3-3f7984d177b7",
   "metadata": {},
   "outputs": [],
   "source": [
    "###########data Transform\n",
    "\n",
    "transform = transforms.Compose( \n",
    "    [transforms.ToTensor(), #이미지가 0~1사이 값으로 변경->파이토치를 사용해서 분석을 진행하기 위해서는 이미지를 텐서로 변환하여 모델에 적용\n",
    "     transforms.Normalize((0.5), (0.5))] #-1~1사이의 값으로 정규화 시킴 이미지마다 명도,채도등 다르기때문에 이미지를 동일한 환경에 맞춰줌 #channel이 한개이기 때문에 한개의 채널에만 적용\n",
    ")"
   ]
  },
  {
   "cell_type": "code",
   "execution_count": 6,
   "id": "8bdd8a58-0aad-4648-8de2-34d061748c6f",
   "metadata": {},
   "outputs": [],
   "source": [
    "##Dataset 저장\n",
    "\n",
    "train_data=torchvision.datasets.FashionMNIST(\n",
    "    root='./data',\n",
    "    train=True,\n",
    "    download=True,\n",
    "    transform=transform #tensor로 변환\n",
    ")\n",
    "\n",
    "test_data=torchvision.datasets.FashionMNIST(\n",
    "    root='./data',\n",
    "    train=False,\n",
    "    download=True,\n",
    "    transform=transform #tensor로 변환\n",
    ")"
   ]
  },
  {
   "cell_type": "code",
   "execution_count": 7,
   "id": "f5fa3cb7-4b3c-4191-bf95-4775d7424ec6",
   "metadata": {},
   "outputs": [],
   "source": [
    "##EDA\n",
    "import matplotlib.pyplot as plt"
   ]
  },
  {
   "cell_type": "code",
   "execution_count": 8,
   "id": "c4999dbd-3857-4182-96b4-76b1a93c7227",
   "metadata": {
    "tags": []
   },
   "outputs": [
    {
     "data": {
      "text/plain": [
       "['__add__',\n",
       " '__class__',\n",
       " '__class_getitem__',\n",
       " '__delattr__',\n",
       " '__dict__',\n",
       " '__dir__',\n",
       " '__doc__',\n",
       " '__eq__',\n",
       " '__format__',\n",
       " '__ge__',\n",
       " '__getattribute__',\n",
       " '__getitem__',\n",
       " '__gt__',\n",
       " '__hash__',\n",
       " '__init__',\n",
       " '__init_subclass__',\n",
       " '__le__',\n",
       " '__len__',\n",
       " '__lt__',\n",
       " '__module__',\n",
       " '__ne__',\n",
       " '__new__',\n",
       " '__orig_bases__',\n",
       " '__parameters__',\n",
       " '__reduce__',\n",
       " '__reduce_ex__',\n",
       " '__repr__',\n",
       " '__setattr__',\n",
       " '__sizeof__',\n",
       " '__slots__',\n",
       " '__str__',\n",
       " '__subclasshook__',\n",
       " '__weakref__',\n",
       " '_check_exists',\n",
       " '_check_legacy_exist',\n",
       " '_format_transform_repr',\n",
       " '_load_data',\n",
       " '_load_legacy_data',\n",
       " '_repr_indent',\n",
       " 'class_to_idx',\n",
       " 'classes',\n",
       " 'data',\n",
       " 'download',\n",
       " 'extra_repr',\n",
       " 'mirrors',\n",
       " 'processed_folder',\n",
       " 'raw_folder',\n",
       " 'resources',\n",
       " 'root',\n",
       " 'target_transform',\n",
       " 'targets',\n",
       " 'test_data',\n",
       " 'test_file',\n",
       " 'test_labels',\n",
       " 'train',\n",
       " 'train_data',\n",
       " 'train_labels',\n",
       " 'training_file',\n",
       " 'transform',\n",
       " 'transforms']"
      ]
     },
     "execution_count": 8,
     "metadata": {},
     "output_type": "execute_result"
    }
   ],
   "source": [
    "dir(train_data) #변수확인&매소드확인"
   ]
  },
  {
   "cell_type": "code",
   "execution_count": 9,
   "id": "258e3366-e59c-45aa-8689-88ad05eced7e",
   "metadata": {
    "tags": []
   },
   "outputs": [
    {
     "data": {
      "text/plain": [
       "(tensor([[[-1.0000, -1.0000, -1.0000, -1.0000, -1.0000, -0.9922, -1.0000,\n",
       "           -1.0000, -1.0000, -1.0000, -0.6784,  0.4745, -0.1922, -0.5765,\n",
       "           -0.6235, -0.6627, -0.3176,  0.3176,  0.0431, -0.8745, -1.0000,\n",
       "           -1.0000, -1.0000, -1.0000, -1.0000, -1.0000, -1.0000, -1.0000],\n",
       "          [-1.0000, -1.0000, -1.0000, -0.9922, -1.0000, -1.0000, -1.0000,\n",
       "           -0.6157,  0.0667,  0.7176,  0.6941,  0.7882,  0.8510,  1.0000,\n",
       "            1.0000,  1.0000,  1.0000,  0.7020,  0.6863,  0.9922,  0.8118,\n",
       "            0.2549, -0.6471, -1.0000, -1.0000, -1.0000, -1.0000, -1.0000],\n",
       "          [-1.0000, -1.0000, -1.0000, -1.0000, -1.0000, -0.8902,  0.3804,\n",
       "            0.7412,  0.7569,  0.6627,  0.5922,  0.5529,  0.5373,  0.5686,\n",
       "            0.6863,  0.6000,  0.5843,  0.5765,  0.5765,  0.5765,  0.6392,\n",
       "            0.7098,  0.7569,  0.2863, -1.0000, -1.0000, -1.0000, -1.0000],\n",
       "          [-1.0000, -1.0000, -1.0000, -1.0000, -1.0000,  0.4745,  0.7176,\n",
       "            0.5686,  0.5529,  0.5843,  0.5529,  0.5608,  0.5608,  0.5765,\n",
       "            0.5373,  0.5529,  0.5529,  0.5686,  0.5686,  0.5686,  0.5686,\n",
       "            0.5765,  0.5686,  0.7647, -0.6784, -1.0000, -1.0000, -1.0000],\n",
       "          [-1.0000, -1.0000, -1.0000, -1.0000, -0.6000,  0.7176,  0.5608,\n",
       "            0.5922,  0.5922,  0.6627,  0.8667,  0.9451,  0.9608,  0.9216,\n",
       "            0.9529,  0.9294,  0.9373,  0.9765,  0.9451,  0.8431,  0.6235,\n",
       "            0.5922,  0.5922,  0.7412,  0.0980, -1.0000, -1.0000, -1.0000],\n",
       "          [-1.0000, -1.0000, -1.0000, -1.0000, -0.0902,  0.7725,  0.6157,\n",
       "            0.6000,  0.6235,  0.6000, -0.2078, -0.4118, -0.6314, -0.4275,\n",
       "           -0.6235, -0.6078, -0.6471, -0.6000, -0.5059, -0.1137,  0.7412,\n",
       "            0.5843,  0.6157,  0.7255,  0.7569, -1.0000, -1.0000, -1.0000],\n",
       "          [-1.0000, -1.0000, -1.0000, -1.0000,  0.5686,  0.7412,  0.6392,\n",
       "            0.5922,  0.6863,  0.5686, -1.0000, -0.4510, -0.2314, -1.0000,\n",
       "           -0.1922, -0.5373, -0.4667, -0.4431, -0.6157, -1.0000,  0.7176,\n",
       "            0.6157,  0.6784,  0.6471,  0.9608, -0.7020, -1.0000, -1.0000],\n",
       "          [-1.0000, -1.0000, -1.0000, -1.0000,  0.9373,  0.7098,  0.6627,\n",
       "            0.6471,  0.6863,  0.6784, -1.0000,  0.9922,  0.9059,  0.0902,\n",
       "            1.0000,  0.3647,  0.9686,  1.0000,  0.6078, -1.0000,  0.6863,\n",
       "            0.7020,  0.6784,  0.6314,  0.7255, -0.2549, -1.0000, -1.0000],\n",
       "          [-1.0000, -1.0000, -1.0000, -0.6471,  0.7725,  0.6784,  0.6784,\n",
       "            0.6863,  0.7569,  0.6078, -1.0000, -0.6706, -0.7255, -0.5294,\n",
       "           -0.8745, -0.8667, -0.9059, -0.8980, -0.4510, -1.0000,  0.4824,\n",
       "            0.6941,  0.6627,  0.6157,  0.6627,  0.2235, -1.0000, -1.0000],\n",
       "          [-1.0000, -1.0000, -1.0000,  0.2863,  0.8431,  0.6784,  0.6549,\n",
       "            0.7255,  0.6941,  0.5765, -0.5922, -0.4431, -0.3020, -0.2627,\n",
       "           -0.3490, -0.3882, -0.4510, -0.4039, -0.2784, -0.3176,  0.6157,\n",
       "            0.6235,  0.7412,  0.6706,  0.7176,  0.6314, -1.0000, -1.0000],\n",
       "          [-1.0000, -1.0000, -1.0000, -0.1686,  0.4667,  0.7490,  0.8588,\n",
       "            0.9451,  0.6549,  0.5529,  0.9765,  0.9608,  0.9451,  0.9216,\n",
       "            0.9451,  0.9765,  0.9843,  0.9608,  0.9765,  0.8745,  0.5765,\n",
       "            0.6627,  0.7647,  0.6863,  0.5137, -0.1137, -1.0000, -1.0000],\n",
       "          [-1.0000, -1.0000, -1.0000, -1.0000, -1.0000, -0.8667, -0.5765,\n",
       "            0.2471,  0.7412,  0.5137,  0.6314,  0.5059,  0.5451,  0.5686,\n",
       "            0.5686,  0.5686,  0.5686,  0.5765,  0.5922,  0.5294,  0.6471,\n",
       "            0.2941, -1.0000, -1.0000, -1.0000, -1.0000, -1.0000, -1.0000],\n",
       "          [-1.0000, -1.0000, -1.0000, -1.0000, -1.0000, -1.0000, -1.0000,\n",
       "           -0.6314,  0.7647,  0.5059,  0.6784,  0.5922,  0.6157,  0.6000,\n",
       "            0.6000,  0.6078,  0.6157,  0.6000,  0.6627,  0.5451,  0.7098,\n",
       "           -0.1608, -1.0000, -1.0000, -1.0000, -1.0000, -1.0000, -1.0000],\n",
       "          [-1.0000, -1.0000, -1.0000, -1.0000, -0.9922, -0.9529, -1.0000,\n",
       "           -0.6392,  0.6627,  0.5294,  0.6627,  0.5843,  0.6157,  0.6078,\n",
       "            0.6000,  0.6078,  0.6157,  0.6000,  0.6627,  0.5686,  0.7098,\n",
       "           -0.2863, -1.0000, -0.9765, -0.9922, -1.0000, -1.0000, -1.0000],\n",
       "          [-1.0000, -1.0000, -1.0000, -1.0000, -1.0000, -0.9922, -1.0000,\n",
       "           -0.9137,  0.5451,  0.5608,  0.6078,  0.5843,  0.6078,  0.6157,\n",
       "            0.6000,  0.6078,  0.6235,  0.6000,  0.6078,  0.6078,  0.7098,\n",
       "           -0.3961, -1.0000, -0.9608, -1.0000, -1.0000, -1.0000, -1.0000],\n",
       "          [-1.0000, -1.0000, -1.0000, -1.0000, -1.0000, -0.9765, -1.0000,\n",
       "           -0.9843,  0.4980,  0.5529,  0.5765,  0.6078,  0.6157,  0.6078,\n",
       "            0.6078,  0.6157,  0.6392,  0.6157,  0.5608,  0.6392,  0.7176,\n",
       "           -0.4196, -1.0000, -0.9608, -1.0000, -1.0000, -1.0000, -1.0000],\n",
       "          [-1.0000, -1.0000, -1.0000, -1.0000, -1.0000, -0.9843, -1.0000,\n",
       "           -1.0000,  0.4745,  0.5451,  0.5686,  0.6235,  0.6235,  0.6000,\n",
       "            0.6235,  0.6235,  0.6471,  0.6314,  0.5529,  0.6235,  0.7333,\n",
       "           -0.4353, -1.0000, -0.9686, -1.0000, -1.0000, -1.0000, -1.0000],\n",
       "          [-1.0000, -1.0000, -1.0000, -1.0000, -1.0000, -0.9843, -1.0000,\n",
       "           -1.0000,  0.6863,  0.5529,  0.5922,  0.6157,  0.6314,  0.6078,\n",
       "            0.6235,  0.6235,  0.6471,  0.6314,  0.5686,  0.5843,  0.7412,\n",
       "           -0.4118, -1.0000, -0.9686, -1.0000, -1.0000, -1.0000, -1.0000],\n",
       "          [-1.0000, -1.0000, -1.0000, -1.0000, -1.0000, -0.9922, -1.0000,\n",
       "           -1.0000,  0.6627,  0.5529,  0.6392,  0.6157,  0.6392,  0.6157,\n",
       "            0.6314,  0.6235,  0.6549,  0.6157,  0.6078,  0.5529,  0.7333,\n",
       "           -0.3725, -1.0000, -0.9765, -1.0000, -1.0000, -1.0000, -1.0000],\n",
       "          [-1.0000, -1.0000, -1.0000, -1.0000, -1.0000, -0.9922, -1.0000,\n",
       "           -1.0000,  0.6000,  0.5765,  0.6078,  0.6314,  0.6235,  0.6078,\n",
       "            0.6549,  0.6078,  0.6471,  0.6471,  0.6392,  0.5294,  0.7333,\n",
       "           -0.2471, -1.0000, -0.9765, -1.0000, -1.0000, -1.0000, -1.0000],\n",
       "          [-1.0000, -1.0000, -1.0000, -1.0000, -1.0000, -0.9922, -1.0000,\n",
       "           -1.0000,  0.5843,  0.5765,  0.6078,  0.6392,  0.6235,  0.6078,\n",
       "            0.6706,  0.6157,  0.6471,  0.6392,  0.6471,  0.5216,  0.7020,\n",
       "           -0.1765, -1.0000, -0.9843, -1.0000, -1.0000, -1.0000, -1.0000],\n",
       "          [-1.0000, -1.0000, -1.0000, -1.0000, -1.0000, -0.9922, -1.0000,\n",
       "           -1.0000,  0.6000,  0.6000,  0.6078,  0.6314,  0.6235,  0.6078,\n",
       "            0.6863,  0.6235,  0.6471,  0.6314,  0.6549,  0.5137,  0.6706,\n",
       "           -0.0980, -1.0000, -0.9843, -1.0000, -1.0000, -1.0000, -1.0000],\n",
       "          [-1.0000, -1.0000, -1.0000, -1.0000, -1.0000, -1.0000, -1.0000,\n",
       "           -1.0000,  0.6000,  0.6235,  0.6235,  0.6314,  0.6157,  0.6157,\n",
       "            0.6863,  0.6471,  0.6471,  0.6235,  0.6627,  0.5294,  0.6471,\n",
       "           -0.0745, -1.0000, -0.9843, -1.0000, -1.0000, -1.0000, -1.0000],\n",
       "          [-1.0000, -1.0000, -1.0000, -1.0000, -1.0000, -0.9922, -1.0000,\n",
       "           -1.0000,  0.5529,  0.6314,  0.6314,  0.6314,  0.6000,  0.6235,\n",
       "            0.6627,  0.6627,  0.6471,  0.6235,  0.6549,  0.5373,  0.6235,\n",
       "           -0.0510, -1.0000, -0.9922, -1.0000, -1.0000, -1.0000, -1.0000],\n",
       "          [-1.0000, -1.0000, -1.0000, -1.0000, -1.0000, -0.9922, -1.0000,\n",
       "           -1.0000,  0.5529,  0.6471,  0.6235,  0.6314,  0.6157,  0.6392,\n",
       "            0.6706,  0.6627,  0.6549,  0.6235,  0.6471,  0.5451,  0.6235,\n",
       "           -0.0275, -1.0000, -0.9922, -1.0000, -1.0000, -1.0000, -1.0000],\n",
       "          [-1.0000, -1.0000, -1.0000, -1.0000, -1.0000, -1.0000, -1.0000,\n",
       "           -1.0000,  0.3490,  0.6471,  0.5922,  0.5765,  0.5608,  0.6000,\n",
       "            0.6235,  0.6078,  0.6000,  0.5765,  0.6078,  0.5451,  0.6157,\n",
       "           -0.0039, -1.0000, -1.0000, -1.0000, -1.0000, -1.0000, -1.0000],\n",
       "          [-1.0000, -1.0000, -1.0000, -1.0000, -1.0000, -1.0000, -1.0000,\n",
       "           -1.0000,  0.4745,  0.7333,  0.6784,  0.8353,  0.8510,  0.8667,\n",
       "            0.9137,  0.9137,  0.9137,  0.8824,  0.9059,  0.6784,  0.7569,\n",
       "            0.2706, -1.0000, -0.9843, -1.0000, -1.0000, -1.0000, -1.0000],\n",
       "          [-1.0000, -1.0000, -1.0000, -1.0000, -1.0000, -0.9922, -1.0000,\n",
       "           -1.0000,  0.0902,  0.1451,  0.0196,  0.0588,  0.0588,  0.0745,\n",
       "           -0.0196, -0.0275, -0.0196, -0.0510, -0.0667, -0.1059,  0.0196,\n",
       "           -0.4039, -1.0000, -1.0000, -1.0000, -1.0000, -1.0000, -1.0000]]]),\n",
       " 0)"
      ]
     },
     "execution_count": 9,
     "metadata": {},
     "output_type": "execute_result"
    }
   ],
   "source": [
    "train_data[1] #data tensor값, 라벨값 추출"
   ]
  },
  {
   "cell_type": "code",
   "execution_count": 10,
   "id": "c9d71cb4-2fca-4872-abc1-4286cecd554e",
   "metadata": {
    "tags": []
   },
   "outputs": [
    {
     "name": "stdout",
     "output_type": "stream",
     "text": [
      "['T-shirt/top', 'Trouser', 'Pullover', 'Dress', 'Coat', 'Sandal', 'Shirt', 'Sneaker', 'Bag', 'Ankle boot']\n",
      "<class 'torchvision.datasets.mnist.FashionMNIST'>\n",
      "tensor([  0,   0,   0,   1,   0,   0,   0,  49, 136, 219, 216, 228, 236, 255,\n",
      "        255, 255, 255, 217, 215, 254, 231, 160,  45,   0,   0,   0,   0,   0],\n",
      "       dtype=torch.uint8)\n",
      "torch.Size([60000, 28, 28])\n"
     ]
    }
   ],
   "source": [
    "#train data\n",
    "print(train_data.classes) #클래스확인\n",
    "print(type(train_data))\n",
    "print(train_data.data[1,1])\n",
    "print(train_data.data.size()) #train set은 6만개의 28x28사이즈 이미지로 구성됨"
   ]
  },
  {
   "cell_type": "code",
   "execution_count": 11,
   "id": "c32f6e2f-3a07-4140-bc25-add3b19ad94e",
   "metadata": {},
   "outputs": [
    {
     "data": {
      "text/plain": [
       "'T-shirt/top'"
      ]
     },
     "execution_count": 11,
     "metadata": {},
     "output_type": "execute_result"
    }
   ],
   "source": [
    "trainclass=train_data.classes\n",
    "trainclass[0] #라벨값으로 class명 추출"
   ]
  },
  {
   "cell_type": "code",
   "execution_count": 12,
   "id": "60b4eacb-31cf-423d-b249-da84d68d9af4",
   "metadata": {},
   "outputs": [
    {
     "name": "stdout",
     "output_type": "stream",
     "text": [
      "{0: 'T-shirt/top', 1: 'Trouser', 2: 'Pullover', 3: 'Dress', 4: 'Coat', 5: 'Sandal', 6: 'Shirt', 7: 'Sneaker', 8: 'Bag', 9: 'Ankle boot'}\n",
      "T-shirt/top\n"
     ]
    }
   ],
   "source": [
    "#Data EDA\n",
    "#class dictionary\n",
    "labels_map={\n",
    "    0: trainclass[0],\n",
    "    1: trainclass[1],\n",
    "    2: trainclass[2],\n",
    "    3: trainclass[3],\n",
    "    4: trainclass[4],\n",
    "    5: trainclass[5],\n",
    "    6: trainclass[6],\n",
    "    7: trainclass[7],\n",
    "    8: trainclass[8],\n",
    "    9: trainclass[9],\n",
    "}\n",
    "\n",
    "print(labels_map)\n",
    "print(labels_map[0]) #라벨값과 실제 클래스 이름 맵핑"
   ]
  },
  {
   "cell_type": "code",
   "execution_count": 13,
   "id": "e5536794-8aed-4e36-acfa-60dc0ad74bae",
   "metadata": {},
   "outputs": [
    {
     "data": {
      "image/png": "[encoded data removed]",
      "text/plain": [
       "<Figure size 720x720 with 9 Axes>"
      ]
     },
     "metadata": {
      "needs_background": "light"
     },
     "output_type": "display_data"
    }
   ],
   "source": [
    "figure=plt.figure(figsize=(10,10)) #plt.figure()는 새로운 figure를 생성해준다\n",
    "\n",
    "cols, rows= 3,3\n",
    "\n",
    "for i in range(1,cols*rows+1): #for문을 통해 랜덤으로 0개의 데이터 뽑고 시각화 해주는 part\n",
    "    sample_idx=torch.randint(len(train_data),size=(1,)).item() #1~60000중 랜덤숫자 추출\n",
    "    img, label= train_data[sample_idx] #첫번째 텐서값을 이미지, 두번째 정수값을->라벨값으로\n",
    "    figure.add_subplot(rows,cols,i) #figure.add_subplot(3,3,1),,,figure.add_subplot(3,3,9) 순서대로 이미지 나타내줌 key, value값\n",
    "    plt.title(labels_map[label]) #해당라벨에대해서 label_map dic에서 텍스트값 추출 \n",
    "    plt.axis('off') #axis제거\n",
    "    plt.imshow(img.squeeze(),cmap='gray') #squeeze->차원이 1인 차원을 제거해줌, cmap='이미지컬러' ex) x=torch.ones(10,5,1,3,1)->x.squeeze()->torch.ones(10,5,3)으로 바꿔줌 바꿔주는 이유는? 차원을 축소하여 그래프를 알맞게 그리기 위함.\n",
    "plt.show()"
   ]
  },
  {
   "cell_type": "code",
   "execution_count": 14,
   "id": "116a864c-cbca-4e60-aaa7-df6dd7a97b78",
   "metadata": {},
   "outputs": [
    {
     "name": "stdout",
     "output_type": "stream",
     "text": [
      "['T-shirt/top', 'Trouser', 'Pullover', 'Dress', 'Coat', 'Sandal', 'Shirt', 'Sneaker', 'Bag', 'Ankle boot']\n",
      "<class 'torchvision.datasets.mnist.FashionMNIST'>\n",
      "torch.Size([10000, 28, 28])\n"
     ]
    }
   ],
   "source": [
    "##test data\n",
    "print(test_data.classes) #클래스확인\n",
    "print(type(test_data))\n",
    "print(test_data.data.size()) #train set은 6만개의 28x28사이즈 이미지로 구성됨"
   ]
  },
  {
   "cell_type": "code",
   "execution_count": 15,
   "id": "54bf17f9-2ee7-4065-9eae-122d1e3636ff",
   "metadata": {
    "tags": []
   },
   "outputs": [
    {
     "data": {
      "text/plain": [
       "{'Ankle boot': 6000,\n",
       " 'T-shirt/top': 6000,\n",
       " 'Dress': 6000,\n",
       " 'Pullover': 6000,\n",
       " 'Sneaker': 6000,\n",
       " 'Sandal': 6000,\n",
       " 'Trouser': 6000,\n",
       " 'Shirt': 6000,\n",
       " 'Coat': 6000,\n",
       " 'Bag': 6000}"
      ]
     },
     "execution_count": 15,
     "metadata": {},
     "output_type": "execute_result"
    }
   ],
   "source": [
    "##################train test class별 개수 구하기\n",
    "\n",
    "train_class_count=dict()\n",
    "\n",
    "\n",
    "for train_item in train_data: #이미지 텐서값 라벨값 반환\n",
    "    label=train_data.classes[train_item[1]] #차례대로 첫번째부터 라벨값 추출\n",
    "    if label not in train_class_count: \n",
    "        train_class_count[label] =1 #첫번쨰로 라벨이 나오면 1로 주고 그다음부터 +1씩\n",
    "    else:\n",
    "        train_class_count[label] +=1\n",
    "        \n",
    "train_class_count"
   ]
  },
  {
   "cell_type": "code",
   "execution_count": 16,
   "id": "31c55b25-99b8-4997-8b97-d55d7f0050c3",
   "metadata": {},
   "outputs": [
    {
     "data": {
      "text/plain": [
       "{'Ankle boot': 1000,\n",
       " 'Pullover': 1000,\n",
       " 'Trouser': 1000,\n",
       " 'Shirt': 1000,\n",
       " 'Coat': 1000,\n",
       " 'Sandal': 1000,\n",
       " 'Sneaker': 1000,\n",
       " 'Dress': 1000,\n",
       " 'Bag': 1000,\n",
       " 'T-shirt/top': 1000}"
      ]
     },
     "execution_count": 16,
     "metadata": {},
     "output_type": "execute_result"
    }
   ],
   "source": [
    "##################train test class별 개수 구하기\n",
    "\n",
    "test_class_count=dict()\n",
    "\n",
    "\n",
    "for test_item in test_data:\n",
    "    label=test_data.classes[test_item[1]] #차례대로 첫번째부터 라벨값 추출\n",
    "    if label not in test_class_count: #\n",
    "        test_class_count[label]=1\n",
    "    else:\n",
    "        test_class_count[label] +=1\n",
    "        \n",
    "test_class_count"
   ]
  },
  {
   "cell_type": "code",
   "execution_count": 17,
   "id": "267c4a53-d9ce-4260-8c0b-e3767d30bf7f",
   "metadata": {},
   "outputs": [
    {
     "data": {
      "text/plain": [
       "'\\ntrain data-> class별로 6000개\\ntest data-> class별로 1000개\\n'"
      ]
     },
     "execution_count": 17,
     "metadata": {},
     "output_type": "execute_result"
    }
   ],
   "source": [
    "'''\n",
    "train data-> class별로 6000개\n",
    "test data-> class별로 1000개\n",
    "'''"
   ]
  },
  {
   "cell_type": "code",
   "execution_count": 18,
   "id": "9103b536-a550-48c4-8855-945aefd1b808",
   "metadata": {},
   "outputs": [],
   "source": [
    "#DATA LOADER"
   ]
  },
  {
   "cell_type": "code",
   "execution_count": 19,
   "id": "f8d33435-0eda-4432-8df7-3f3bad51eccc",
   "metadata": {},
   "outputs": [],
   "source": [
    "trainloader = torch.utils.data.DataLoader(train_data, batch_size=64, shuffle=True, num_workers=2) \n",
    "testloader = torch.utils.data.DataLoader(test_data, batch_size=64, shuffle=False, num_workers=2) "
   ]
  },
  {
   "cell_type": "code",
   "execution_count": 20,
   "id": "239e78c9-0815-4d90-8614-66a8a40ae398",
   "metadata": {
    "tags": []
   },
   "outputs": [],
   "source": [
    "#trainloader.dataset"
   ]
  },
  {
   "cell_type": "code",
   "execution_count": 21,
   "id": "803167e8-083a-4af1-bd1e-4c7e75aee040",
   "metadata": {
    "tags": []
   },
   "outputs": [],
   "source": [
    "#testloader.dataset"
   ]
  },
  {
   "cell_type": "code",
   "execution_count": 22,
   "id": "62b1c73f-416c-4d9a-9ad5-27fba384346e",
   "metadata": {
    "tags": []
   },
   "outputs": [
    {
     "name": "stdout",
     "output_type": "stream",
     "text": [
      "tensor([[[[-1.0000, -1.0000, -1.0000,  ..., -0.9765, -1.0000, -1.0000],\n",
      "          [-1.0000, -1.0000, -1.0000,  ..., -0.7333, -1.0000, -1.0000],\n",
      "          [-1.0000, -1.0000, -1.0000,  ..., -0.2235, -1.0000, -1.0000],\n",
      "          ...,\n",
      "          [-0.5216, -0.2784, -0.4118,  ..., -0.5373,  0.1451, -1.0000],\n",
      "          [-1.0000, -1.0000, -0.9843,  ..., -1.0000, -1.0000, -1.0000],\n",
      "          [-1.0000, -1.0000, -1.0000,  ..., -0.9765, -0.9765, -1.0000]]],\n",
      "\n",
      "\n",
      "        [[[-1.0000, -1.0000, -1.0000,  ..., -1.0000, -1.0000, -1.0000],\n",
      "          [-1.0000, -1.0000, -1.0000,  ..., -1.0000, -1.0000, -1.0000],\n",
      "          [-1.0000, -1.0000, -1.0000,  ..., -1.0000, -1.0000, -1.0000],\n",
      "          ...,\n",
      "          [-1.0000, -1.0000, -1.0000,  ..., -1.0000, -1.0000, -1.0000],\n",
      "          [-1.0000, -1.0000, -1.0000,  ..., -1.0000, -1.0000, -1.0000],\n",
      "          [-1.0000, -1.0000, -1.0000,  ..., -1.0000, -1.0000, -1.0000]]],\n",
      "\n",
      "\n",
      "        [[[-1.0000, -1.0000, -1.0000,  ..., -1.0000, -1.0000, -1.0000],\n",
      "          [-1.0000, -1.0000, -1.0000,  ..., -1.0000, -1.0000, -1.0000],\n",
      "          [-1.0000, -1.0000, -1.0000,  ..., -1.0000, -1.0000, -1.0000],\n",
      "          ...,\n",
      "          [-1.0000, -1.0000, -1.0000,  ..., -1.0000, -1.0000, -1.0000],\n",
      "          [-1.0000, -1.0000, -1.0000,  ..., -1.0000, -1.0000, -1.0000],\n",
      "          [-1.0000, -1.0000, -1.0000,  ..., -1.0000, -1.0000, -1.0000]]],\n",
      "\n",
      "\n",
      "        ...,\n",
      "\n",
      "\n",
      "        [[[-1.0000, -1.0000, -1.0000,  ..., -1.0000, -1.0000, -1.0000],\n",
      "          [-1.0000, -1.0000, -1.0000,  ..., -1.0000, -1.0000, -1.0000],\n",
      "          [-1.0000, -1.0000, -1.0000,  ..., -1.0000, -1.0000, -1.0000],\n",
      "          ...,\n",
      "          [-1.0000, -1.0000, -1.0000,  ..., -1.0000, -1.0000, -1.0000],\n",
      "          [-1.0000, -1.0000, -1.0000,  ..., -1.0000, -1.0000, -1.0000],\n",
      "          [-1.0000, -1.0000, -1.0000,  ..., -1.0000, -1.0000, -1.0000]]],\n",
      "\n",
      "\n",
      "        [[[-1.0000, -1.0000, -1.0000,  ..., -1.0000, -1.0000, -1.0000],\n",
      "          [-1.0000, -1.0000, -1.0000,  ..., -1.0000, -1.0000, -1.0000],\n",
      "          [-1.0000, -1.0000, -1.0000,  ..., -1.0000, -1.0000, -1.0000],\n",
      "          ...,\n",
      "          [-1.0000, -1.0000, -1.0000,  ..., -1.0000, -1.0000, -1.0000],\n",
      "          [-1.0000, -1.0000, -1.0000,  ..., -1.0000, -1.0000, -1.0000],\n",
      "          [-1.0000, -1.0000, -1.0000,  ..., -1.0000, -1.0000, -1.0000]]],\n",
      "\n",
      "\n",
      "        [[[-1.0000, -1.0000, -1.0000,  ..., -1.0000, -1.0000, -1.0000],\n",
      "          [-1.0000, -1.0000, -1.0000,  ..., -1.0000, -1.0000, -1.0000],\n",
      "          [-1.0000, -1.0000, -1.0000,  ..., -1.0000, -1.0000, -1.0000],\n",
      "          ...,\n",
      "          [-1.0000, -1.0000, -1.0000,  ..., -1.0000, -1.0000, -1.0000],\n",
      "          [-1.0000, -1.0000, -1.0000,  ..., -1.0000, -1.0000, -1.0000],\n",
      "          [-1.0000, -1.0000, -1.0000,  ..., -1.0000, -1.0000, -1.0000]]]])\n",
      "tensor([5, 1, 2, 0, 6, 3, 1, 5, 9, 4, 7, 6, 8, 3, 0, 7, 4, 1, 1, 2, 1, 3, 3, 9,\n",
      "        8, 7, 9, 0, 1, 3, 2, 0, 9, 8, 0, 7, 6, 7, 3, 1, 3, 7, 9, 2, 1, 1, 8, 9,\n",
      "        5, 5, 3, 9, 3, 2, 8, 7, 5, 4, 8, 5, 9, 5, 4, 4])\n"
     ]
    }
   ],
   "source": [
    "#Dataloader EDA\n",
    "#DataLoader를 통해 반복하기->이미지, 라벨 뽑아내기 EDA\n",
    "#이미지와 라벨값을 표시\n",
    "\n",
    "train_images, train_labels = next(iter(trainloader))\n",
    "print(train_images) #이미지 텐서값 추출\n",
    "print(train_labels) #라벨값 추출\n",
    "###batch size-> 64개에 대한 텐서값, 라벨값 추출"
   ]
  },
  {
   "cell_type": "code",
   "execution_count": 23,
   "id": "a32cc4f3-55f3-433c-87b2-7f8bdc04bd11",
   "metadata": {
    "tags": []
   },
   "outputs": [
    {
     "name": "stdout",
     "output_type": "stream",
     "text": [
      "Feature batch shape: torch.Size([64, 1, 28, 28])\n",
      "Labels batch shape: torch.Size([64])\n",
      "tensor(5)\n",
      "torch.Size([28, 28])\n"
     ]
    }
   ],
   "source": [
    "print(f\"Feature batch shape: {train_images.size()}\") #f'문자열 {변수} 문자열' f-string 64x1x28x28->(batch_size,channel,image height,image weight\n",
    "print(f\"Labels batch shape: {train_labels.size()}\")\n",
    "img=train_images[0].squeeze() #channel=1 이기때문에 1인차원을 scalar로 변환 채널을 없애야함. 채널을 없애줘야 화면에 그릴수 있음, 1인차원을 없애주어야함(Invalid dimensions for image data)\n",
    "label=train_labels[0]\n",
    "print(train_labels[0])\n",
    "print(img.size())\n",
    "#이미지별 라벨별 사이즈. 이미지는 64x1x28x28 label=64개\n",
    "#matplotlib에서 흑백 두톤만 가지는 그래프는 채널 즉 1인차원을 없애줘야함"
   ]
  },
  {
   "cell_type": "code",
   "execution_count": 24,
   "id": "b7dd8a0f-2ca1-42e5-8355-62f3b37c99bf",
   "metadata": {
    "tags": []
   },
   "outputs": [
    {
     "data": {
      "image/png": "[encoded data removed]",
      "text/plain": [
       "<Figure size 432x288 with 1 Axes>"
      ]
     },
     "metadata": {
      "needs_background": "light"
     },
     "output_type": "display_data"
    },
    {
     "name": "stdout",
     "output_type": "stream",
     "text": [
      "Label:5\n",
      "Class name:Sandal\n"
     ]
    }
   ],
   "source": [
    "plt.imshow(img,cmap='gray')\n",
    "plt.show()\n",
    "print(f'Label:{label}')\n",
    "labeling=int(label)\n",
    "print(f'Class name:{labels_map[labeling]}')"
   ]
  },
  {
   "cell_type": "code",
   "execution_count": 25,
   "id": "185745f2-8f90-4ff5-bdbc-30dd64ff2b86",
   "metadata": {},
   "outputs": [],
   "source": [
    "############내가 이미지를 가지고있는경우\n",
    "###########Custom dataset만들기"
   ]
  },
  {
   "cell_type": "code",
   "execution_count": 26,
   "id": "a26baad3-8ace-494d-8457-b47cfb6f3787",
   "metadata": {},
   "outputs": [],
   "source": [
    "# Custom dataset, Transform, DataLoader 생성\n",
    "\n",
    "class Customdataset(Dataset): #Dataset 상속받음->from torch.utils.data import Dataset, DataLoader여기서 Dataset클래스 상속받음(데이터를 활용하고 모델에 입력하기위해)\n",
    "    def __init__(self,np_data,transform=None): #모델에 사용할 데이터를 담아둠, 모델에 사용할 데이터 저장\n",
    "        self.data=np_data #데이터 저장\n",
    "        self.transform=transform #데이터 전처리\n",
    "        self.len=np_data.shape[0] #torch.Size([60000, 28, 28]) 첫번째가 전체 데이터 개수이기 때문에 0으로\n",
    "    def __len__(self): #데이터 개수 리턴, 학습에 사용할 데이터의 총개수 얼마만큼의 인덱스를 사용할지 반환해줌\n",
    "        return self.len\n",
    "    def __getitem__(self,idx): #index에 해당하는 데이터를 리턴해줌, numpy나 tensor형식으로 반환함\n",
    "        sample=self.data[idx]\n",
    "        if self.transform: #데이터 변환까지 하고 가져오기\n",
    "            sample = self.transform(sample)\n",
    "        return sample"
   ]
  },
  {
   "cell_type": "code",
   "execution_count": 27,
   "id": "51eed724-8067-4fdd-8b9b-c364432dc73a",
   "metadata": {},
   "outputs": [],
   "source": [
    "#transform 생성\n",
    "\n",
    "def square(sample):\n",
    "    return sample**2"
   ]
  },
  {
   "cell_type": "code",
   "execution_count": 28,
   "id": "7784ee7f-9e48-4299-a13b-c0726c7daebe",
   "metadata": {},
   "outputs": [],
   "source": [
    "transform1=transforms.Compose([square])"
   ]
  },
  {
   "cell_type": "code",
   "execution_count": 29,
   "id": "7917968d-03ad-4fb4-bada-1d89698a98a5",
   "metadata": {},
   "outputs": [
    {
     "data": {
      "text/plain": [
       "array([ 0,  1,  2,  3,  4,  5,  6,  7,  8,  9, 10, 11])"
      ]
     },
     "execution_count": 29,
     "metadata": {},
     "output_type": "execute_result"
    }
   ],
   "source": [
    "np_data = np.arange(12)\n",
    "np_data"
   ]
  },
  {
   "cell_type": "code",
   "execution_count": 30,
   "id": "7259b186-be3f-46d2-b372-dac37d1d4a68",
   "metadata": {},
   "outputs": [],
   "source": [
    "custom_dataset=Customdataset(np_data,transform=transform1)"
   ]
  },
  {
   "cell_type": "code",
   "execution_count": 31,
   "id": "ee2b4032-df03-4597-afbd-3e79001a5fa0",
   "metadata": {},
   "outputs": [
    {
     "name": "stdout",
     "output_type": "stream",
     "text": [
      "<class '__main__.Customdataset'>\n",
      "9\n",
      "12\n"
     ]
    }
   ],
   "source": [
    "print(type(custom_dataset))\n",
    "print(custom_dataset[3])\n",
    "print(len(custom_dataset))"
   ]
  },
  {
   "cell_type": "code",
   "execution_count": 32,
   "id": "66269d8c-1324-4809-978c-88edfe3bd67a",
   "metadata": {},
   "outputs": [],
   "source": [
    "custom_dataloader=DataLoader(custom_dataset,batch_size=2,shuffle=True) #데이터로더 생성"
   ]
  },
  {
   "cell_type": "code",
   "execution_count": 33,
   "id": "22b5df06-20dd-43f6-8485-4ba07ff13fb9",
   "metadata": {},
   "outputs": [
    {
     "name": "stdout",
     "output_type": "stream",
     "text": [
      "<class 'torch.utils.data.dataloader.DataLoader'>\n"
     ]
    }
   ],
   "source": [
    "print(type(custom_dataloader))"
   ]
  },
  {
   "cell_type": "code",
   "execution_count": 34,
   "id": "e5f9902f-83f0-4778-836a-d3a2a1704817",
   "metadata": {
    "tags": []
   },
   "outputs": [
    {
     "name": "stdout",
     "output_type": "stream",
     "text": [
      "tensor([ 4, 64], dtype=torch.int32)\n",
      "tensor([81, 16], dtype=torch.int32)\n",
      "tensor([ 25, 100], dtype=torch.int32)\n",
      "tensor([49, 36], dtype=torch.int32)\n",
      "tensor([121,   1], dtype=torch.int32)\n",
      "tensor([0, 9], dtype=torch.int32)\n",
      "========================================\n",
      "tensor([81, 25], dtype=torch.int32)\n",
      "tensor([64, 16], dtype=torch.int32)\n",
      "tensor([ 49, 121], dtype=torch.int32)\n",
      "tensor([36,  0], dtype=torch.int32)\n",
      "tensor([100,   4], dtype=torch.int32)\n",
      "tensor([9, 1], dtype=torch.int32)\n",
      "========================================\n",
      "tensor([4, 9], dtype=torch.int32)\n",
      "tensor([64,  1], dtype=torch.int32)\n",
      "tensor([ 16, 121], dtype=torch.int32)\n",
      "tensor([25,  0], dtype=torch.int32)\n",
      "tensor([36, 49], dtype=torch.int32)\n",
      "tensor([100,  81], dtype=torch.int32)\n",
      "========================================\n"
     ]
    }
   ],
   "source": [
    "for epoch in range(3): #epoch\n",
    "    for data in custom_dataloader:\n",
    "        print(data)\n",
    "    print(\"==\"*20)"
   ]
  },
  {
   "cell_type": "code",
   "execution_count": 35,
   "id": "f3553e08-aa73-4bb1-9523-c4fe51a367e8",
   "metadata": {},
   "outputs": [],
   "source": [
    "#Model 생성"
   ]
  },
  {
   "cell_type": "code",
   "execution_count": 36,
   "id": "50e72467-5719-4734-8159-11c8452719a5",
   "metadata": {},
   "outputs": [
    {
     "data": {
      "text/plain": [
       "\"\\ndevice= 'cuda' if torch.cuda.is_available() else 'cpu'\\nprint('Using {} device'.format(device))\\n#GPU사용\\n\""
      ]
     },
     "execution_count": 36,
     "metadata": {},
     "output_type": "execute_result"
    }
   ],
   "source": [
    "'''\n",
    "device= 'cuda' if torch.cuda.is_available() else 'cpu'\n",
    "print('Using {} device'.format(device))\n",
    "#GPU사용\n",
    "'''"
   ]
  },
  {
   "cell_type": "code",
   "execution_count": 37,
   "id": "fd5b101c-017c-41af-b755-3ecbe5967844",
   "metadata": {},
   "outputs": [],
   "source": [
    "import torch.nn as nn #deep learning model에 필요한 모듈이 모아져있는 패키지, 신경망을 구축하기 위한 데이터 구조나 레이어 정의"
   ]
  },
  {
   "cell_type": "code",
   "execution_count": 38,
   "id": "95aa85a4-58ca-4e85-9cf2-8b3801d123b9",
   "metadata": {},
   "outputs": [],
   "source": [
    "#Model Class만들기\n",
    "\n",
    "class NeuralNetwork(nn.Module): #nn.Module 상속\n",
    "    def __init__(self):\n",
    "        super(NeuralNetwork,self).__init__() #상위클래스상속\n",
    "        self.flatten=nn.Flatten() #28x28->flatten vector\n",
    "        self.linear_relu_stack=nn.Sequential( #한번에 묶어서\n",
    "            nn.Linear(28*28,128),\n",
    "            nn.ReLU(),\n",
    "            nn.Dropout(0.2), #주로 activation function 뒤에 적용해줌, 신경망에서 노드를 제거하여 학습하는것, 과적합될 가능성을 줄여줌 p=probability of an element to be zeroed. Default: 0.5, 20%의 노드를 사용하지 않음.\n",
    "            nn.Linear(128,10)\n",
    "        )\n",
    "        \n",
    "    def forward(self,x):\n",
    "        x=self.flatten(x)\n",
    "        logits=self.linear_relu_stack(x) #layer 2개\n",
    "        return logits\n",
    "        \n",
    "model=NeuralNetwork()     \n",
    "#Convolution->batch normalization->activation->dropout->pooling 참조:Stackoverflow"
   ]
  },
  {
   "cell_type": "code",
   "execution_count": 39,
   "id": "75e0b156-e6a4-4391-8deb-dbb828983692",
   "metadata": {},
   "outputs": [
    {
     "data": {
      "text/plain": [
       "'\\n#model instance 생성, device생성\\n\\nmodel=NeuralNetwork().to(device) #gpu로 모델 보내줌->이유:\\nprint(model)\\n'"
      ]
     },
     "execution_count": 39,
     "metadata": {},
     "output_type": "execute_result"
    }
   ],
   "source": [
    "'''\n",
    "#model instance 생성, device생성\n",
    "\n",
    "model=NeuralNetwork().to(device) #gpu로 모델 보내줌->이유:\n",
    "print(model)\n",
    "'''"
   ]
  },
  {
   "cell_type": "code",
   "execution_count": 40,
   "id": "1e476257-d8f3-45e2-87ce-a0ca30a6df5b",
   "metadata": {
    "collapsed": true,
    "jupyter": {
     "outputs_hidden": true
    },
    "tags": []
   },
   "outputs": [
    {
     "name": "stdout",
     "output_type": "stream",
     "text": [
      "tensor([[[0.2033, 0.0645, 0.6393, 0.2618, 0.2791, 0.9227, 0.3130, 0.4312,\n",
      "          0.1077, 0.5747, 0.2557, 0.9543, 0.8679, 0.7887, 0.2084, 0.0710,\n",
      "          0.9472, 0.1669, 0.8830, 0.7925, 0.3337, 0.2339, 0.0429, 0.9055,\n",
      "          0.5024, 0.1990, 0.2631, 0.1090],\n",
      "         [0.8334, 0.1268, 0.6160, 0.9544, 0.9768, 0.9326, 0.5073, 0.2735,\n",
      "          0.2957, 0.0299, 0.5328, 0.0732, 0.9749, 0.3388, 0.4118, 0.1498,\n",
      "          0.7350, 0.0706, 0.4851, 0.4329, 0.5190, 0.5741, 0.8203, 0.0053,\n",
      "          0.4081, 0.6129, 0.9060, 0.0570],\n",
      "         [0.5298, 0.1459, 0.9640, 0.2670, 0.8325, 0.0725, 0.1981, 0.0660,\n",
      "          0.8644, 0.3551, 0.4465, 0.7633, 0.2927, 0.1522, 0.9598, 0.6527,\n",
      "          0.9415, 0.7448, 0.9547, 0.9295, 0.6056, 0.4600, 0.2791, 0.9223,\n",
      "          0.0527, 0.4657, 0.3172, 0.3639],\n",
      "         [0.4653, 0.0596, 0.0819, 0.2477, 0.3949, 0.0515, 0.6849, 0.6479,\n",
      "          0.3795, 0.6551, 0.0159, 0.3150, 0.5594, 0.8073, 0.1502, 0.6363,\n",
      "          0.1249, 0.5515, 0.9637, 0.1465, 0.0478, 0.7905, 0.2199, 0.3369,\n",
      "          0.1187, 0.3556, 0.6309, 0.5403],\n",
      "         [0.0870, 0.1865, 0.3575, 0.5926, 0.3184, 0.0555, 0.8137, 0.8150,\n",
      "          0.4869, 0.3092, 0.9756, 0.1428, 0.4692, 0.7224, 0.6176, 0.3668,\n",
      "          0.0115, 0.9910, 0.9963, 0.8042, 0.6538, 0.0715, 0.7067, 0.8745,\n",
      "          0.7025, 0.7249, 0.6440, 0.5346],\n",
      "         [0.4827, 0.1198, 0.6746, 0.7412, 0.4795, 0.3866, 0.8060, 0.5426,\n",
      "          0.8200, 0.4329, 0.3775, 0.4522, 0.4672, 0.6743, 0.1203, 0.7684,\n",
      "          0.6400, 0.2353, 0.9881, 0.8921, 0.5700, 0.5928, 0.1825, 0.4249,\n",
      "          0.1126, 0.6654, 0.6221, 0.9732],\n",
      "         [0.3051, 0.7865, 0.2888, 0.4246, 0.7054, 0.6763, 0.7535, 0.4432,\n",
      "          0.8413, 0.3610, 0.9874, 0.8054, 0.4237, 0.8500, 0.3749, 0.7271,\n",
      "          0.7915, 0.9343, 0.4921, 0.6727, 0.4263, 0.7767, 0.4827, 0.6787,\n",
      "          0.8352, 0.1307, 0.6320, 0.1678],\n",
      "         [0.7245, 0.5580, 0.0690, 0.8709, 0.1549, 0.3795, 0.9994, 0.4917,\n",
      "          0.0376, 0.8291, 0.9655, 0.3004, 0.8568, 0.8389, 0.4900, 0.3045,\n",
      "          0.6162, 0.6523, 0.0152, 0.9417, 0.0616, 0.1187, 0.3262, 0.8650,\n",
      "          0.8072, 0.0666, 0.4424, 0.7136],\n",
      "         [0.9199, 0.7538, 0.6625, 0.7034, 0.3912, 0.6436, 0.5806, 0.4673,\n",
      "          0.5516, 0.0468, 0.7879, 0.1795, 0.4862, 0.1135, 0.1995, 0.5605,\n",
      "          0.4861, 0.8556, 0.3457, 0.3711, 0.6494, 0.6200, 0.2456, 0.4733,\n",
      "          0.0901, 0.4206, 0.7787, 0.3308],\n",
      "         [0.7537, 0.2130, 0.3200, 0.5866, 0.2577, 0.1732, 0.9850, 0.2748,\n",
      "          0.4274, 0.2332, 0.0071, 0.2771, 0.9388, 0.8378, 0.6085, 0.3536,\n",
      "          0.4224, 0.2725, 0.7205, 0.1333, 0.1628, 0.7756, 0.9078, 0.2425,\n",
      "          0.7460, 0.3491, 0.9645, 0.6648],\n",
      "         [0.6920, 0.5437, 0.9893, 0.9144, 0.6848, 0.4850, 0.5261, 0.2818,\n",
      "          0.7132, 0.0405, 0.2037, 0.8889, 0.2227, 0.5289, 0.1336, 0.0946,\n",
      "          0.6394, 0.5911, 0.7784, 0.0045, 0.0246, 0.1097, 0.9113, 0.9228,\n",
      "          0.8129, 0.2342, 0.4763, 0.4436],\n",
      "         [0.6311, 0.9743, 0.6087, 0.1535, 0.9787, 0.0976, 0.0489, 0.6725,\n",
      "          0.1393, 0.9720, 0.9743, 0.0099, 0.2530, 0.8754, 0.6263, 0.3129,\n",
      "          0.8369, 0.5971, 0.6993, 0.9753, 0.4419, 0.7519, 0.2159, 0.2243,\n",
      "          0.4053, 0.5482, 0.5594, 0.5441],\n",
      "         [0.6257, 0.6358, 0.9508, 0.5953, 0.0218, 0.9125, 0.5772, 0.3137,\n",
      "          0.5017, 0.2119, 0.4180, 0.5898, 0.6594, 0.8041, 0.8723, 0.5719,\n",
      "          0.4472, 0.8431, 0.1871, 0.5892, 0.7271, 0.6894, 0.6698, 0.8810,\n",
      "          0.0692, 0.1602, 0.0370, 0.7589],\n",
      "         [0.4874, 0.7850, 0.4569, 0.1044, 0.6743, 0.3851, 0.6849, 0.8019,\n",
      "          0.4630, 0.8922, 0.2193, 0.3434, 0.2959, 0.5023, 0.7071, 0.5544,\n",
      "          0.7231, 0.7240, 0.1683, 0.4207, 0.6846, 0.7542, 0.4690, 0.5130,\n",
      "          0.5056, 0.7477, 0.0352, 0.3985],\n",
      "         [0.5714, 0.4314, 0.8663, 0.0086, 0.7440, 0.3892, 0.5778, 0.5218,\n",
      "          0.1121, 0.9756, 0.6132, 0.3496, 0.3834, 0.0931, 0.9654, 0.2293,\n",
      "          0.9184, 0.5992, 0.1473, 0.7024, 0.1374, 0.3963, 0.8950, 0.7586,\n",
      "          0.5542, 0.1313, 0.5310, 0.0191],\n",
      "         [0.8943, 0.5884, 0.8920, 0.6876, 0.7161, 0.2910, 0.9978, 0.1729,\n",
      "          0.5226, 0.4019, 0.5140, 0.5332, 0.0280, 0.2090, 0.6442, 0.4979,\n",
      "          0.7786, 0.5621, 0.3281, 0.7636, 0.0847, 0.3648, 0.7317, 0.7753,\n",
      "          0.8645, 0.8537, 0.4093, 0.0693],\n",
      "         [0.5563, 0.7844, 0.6136, 0.1949, 0.8402, 0.0471, 0.1941, 0.0227,\n",
      "          0.7431, 0.3844, 0.5137, 0.2243, 0.3861, 0.0124, 0.7129, 0.4838,\n",
      "          0.2867, 0.1056, 0.9311, 0.2067, 0.7076, 0.7889, 0.4392, 0.0151,\n",
      "          0.2745, 0.0962, 0.2130, 0.5727],\n",
      "         [0.6642, 0.2838, 0.5361, 0.1652, 0.6949, 0.9084, 0.8804, 0.4374,\n",
      "          0.0813, 0.2660, 0.4855, 0.5259, 0.2193, 0.3944, 0.1108, 0.9665,\n",
      "          0.5435, 0.7615, 0.5269, 0.8550, 0.2636, 0.3154, 0.8598, 0.7875,\n",
      "          0.4522, 0.6695, 0.0555, 0.8398],\n",
      "         [0.5939, 0.1464, 0.4513, 0.2114, 0.5931, 0.5411, 0.4934, 0.5753,\n",
      "          0.8499, 0.9819, 0.1731, 0.4182, 0.7126, 0.3154, 0.5001, 0.7792,\n",
      "          0.0160, 0.3253, 0.1583, 0.6696, 0.8753, 0.8255, 0.6959, 0.7586,\n",
      "          0.8469, 0.5172, 0.3323, 0.0685],\n",
      "         [0.5900, 0.4298, 0.8305, 0.3455, 0.1337, 0.9387, 0.2141, 0.4696,\n",
      "          0.4418, 0.2762, 0.3017, 0.3534, 0.5549, 0.5729, 0.0346, 0.5581,\n",
      "          0.0894, 0.6526, 0.5504, 0.5509, 0.1301, 0.1194, 0.9325, 0.5854,\n",
      "          0.7238, 0.0437, 0.2443, 0.4377],\n",
      "         [0.6494, 0.6530, 0.4989, 0.6508, 0.3233, 0.3202, 0.9643, 0.5821,\n",
      "          0.8254, 0.4658, 0.4261, 0.6368, 0.9616, 0.1593, 0.7069, 0.2805,\n",
      "          0.0774, 0.1103, 0.6937, 0.6515, 0.9707, 0.1946, 0.1801, 0.6611,\n",
      "          0.7656, 0.5950, 0.9296, 0.9887],\n",
      "         [0.9783, 0.8345, 0.0633, 0.0420, 0.0634, 0.8695, 0.3951, 0.5347,\n",
      "          0.0156, 0.4948, 0.3955, 0.6448, 0.5657, 0.2179, 0.3385, 0.7082,\n",
      "          0.6849, 0.2314, 0.8052, 0.3901, 0.1510, 0.5393, 0.7705, 0.4972,\n",
      "          0.3119, 0.5556, 0.5689, 0.2537],\n",
      "         [0.7948, 0.6999, 0.3345, 0.2366, 0.3790, 0.2267, 0.5319, 0.0114,\n",
      "          0.2051, 0.8974, 0.1495, 0.5686, 0.7488, 0.3223, 0.9154, 0.1161,\n",
      "          0.7315, 0.6076, 0.8165, 0.2575, 0.9398, 0.9900, 0.1196, 0.1603,\n",
      "          0.0072, 0.5353, 0.6751, 0.1240],\n",
      "         [0.7655, 0.6503, 0.7125, 0.1757, 0.6036, 0.7889, 0.1150, 0.5488,\n",
      "          0.7597, 0.2063, 0.6770, 0.2784, 0.1986, 0.9118, 0.0352, 0.5371,\n",
      "          0.8084, 0.5742, 0.5657, 0.8675, 0.4465, 0.0218, 0.8155, 0.4597,\n",
      "          0.2535, 0.5500, 0.1342, 0.1347],\n",
      "         [0.4014, 0.2250, 0.2953, 0.4082, 0.8707, 0.4046, 0.8284, 0.0018,\n",
      "          0.1606, 0.7320, 0.7920, 0.1152, 0.6591, 0.8429, 0.1459, 0.8758,\n",
      "          0.1053, 0.5066, 0.9511, 0.7413, 0.1925, 0.9733, 0.7559, 0.1661,\n",
      "          0.2131, 0.5408, 0.1682, 0.7820],\n",
      "         [0.6152, 0.4540, 0.4081, 0.0537, 0.3820, 0.9395, 0.4768, 0.1448,\n",
      "          0.0485, 0.6762, 0.6952, 0.8862, 0.0474, 0.7133, 0.9213, 0.8867,\n",
      "          0.2310, 0.1764, 0.8984, 0.7577, 0.3521, 0.7559, 0.2565, 0.8123,\n",
      "          0.5706, 0.7000, 0.1863, 0.9933],\n",
      "         [0.4942, 0.8287, 0.5258, 0.9859, 0.2600, 0.4788, 0.7628, 0.3044,\n",
      "          0.1584, 0.2467, 0.6172, 0.1337, 0.8841, 0.8964, 0.0318, 0.3944,\n",
      "          0.8776, 0.4707, 0.9093, 0.0165, 0.3915, 0.1565, 0.1494, 0.3994,\n",
      "          0.1424, 0.9459, 0.8338, 0.5196],\n",
      "         [0.9682, 0.9399, 0.9266, 0.4890, 0.6756, 0.6642, 0.6896, 0.4371,\n",
      "          0.8665, 0.0029, 0.6734, 0.3678, 0.9141, 0.0373, 0.2185, 0.8118,\n",
      "          0.8868, 0.7846, 0.7465, 0.6284, 0.3267, 0.8063, 0.2404, 0.5730,\n",
      "          0.2871, 0.5576, 0.3309, 0.2628]]])\n",
      "predicted class:tensor([6])\n"
     ]
    }
   ],
   "source": [
    "#random data만들어 예측\n",
    "\n",
    "X=torch.rand(1,28,28)\n",
    "print(X)\n",
    "logits=model(X) #10개의 텐서값으로 반환\n",
    "pred_probab=nn.Softmax(dim=1)(logits) #softmax->적용 전체합이 1이되도록 반환 loss.function\n",
    "y_pred=pred_probab.argmax(1) #텐서에 있는 가장 큰값 인덱스 추출, 행기준이기 때문에 1을넣어줌 열기준이면 0\n",
    "print(f'predicted class:{y_pred}')"
   ]
  },
  {
   "cell_type": "code",
   "execution_count": 52,
   "id": "8eb86f09-790a-4091-ac75-656c8e7e71c4",
   "metadata": {},
   "outputs": [
    {
     "name": "stdout",
     "output_type": "stream",
     "text": [
      "tensor([[-0.2773,  0.0631,  0.0208,  0.1170,  0.1402, -0.1274, -0.1204, -0.1503,\n",
      "         -0.0758,  0.0934]], grad_fn=<AddmmBackward0>)\n",
      "tensor([[0.0776, 0.1090, 0.1045, 0.1150, 0.1177, 0.0901, 0.0907, 0.0881, 0.0949,\n",
      "         0.1124]], grad_fn=<SoftmaxBackward0>)\n",
      "tensor(1.0000, grad_fn=<SumBackward0>)\n",
      "tensor(4)\n"
     ]
    }
   ],
   "source": [
    "print(logits) #10개의 출력값 반환\n",
    "print(pred_probab) #0~1사이 확률값, softmax함수를 거쳐서\n",
    "print(torch.sum(pred_probab)) #10개의 확률을 더하면 1\n",
    "y_pred=torch.argmax(pred_probab) #가장 큰 확률을 가진 인덱스 값\n",
    "print(y_pred) #가장큰값 인덱스 반환"
   ]
  },
  {
   "cell_type": "code",
   "execution_count": 41,
   "id": "527712e1-4898-4ec7-b3a4-45c18e99b195",
   "metadata": {},
   "outputs": [
    {
     "data": {
      "text/plain": [
       "'\\ny_pred=pred_probab.argmax(1)\\nprint(y_pred)\\n'"
      ]
     },
     "execution_count": 41,
     "metadata": {},
     "output_type": "execute_result"
    }
   ],
   "source": [
    "'''\n",
    "y_pred=pred_probab.argmax(1)\n",
    "print(y_pred)\n",
    "'''"
   ]
  },
  {
   "cell_type": "code",
   "execution_count": 42,
   "id": "9beb096c-4d93-4188-9a95-5317331ead75",
   "metadata": {},
   "outputs": [
    {
     "data": {
      "text/plain": [
       "'\\n50000/64\\n'"
      ]
     },
     "execution_count": 42,
     "metadata": {},
     "output_type": "execute_result"
    }
   ],
   "source": [
    "'''\n",
    "50000/64\n",
    "'''"
   ]
  },
  {
   "cell_type": "code",
   "execution_count": 43,
   "id": "a4db66ca-2654-4ce1-bcb5-51e20d2c7d77",
   "metadata": {},
   "outputs": [],
   "source": [
    "######실제데이터 Training"
   ]
  },
  {
   "cell_type": "code",
   "execution_count": 44,
   "id": "2545de1d-c05d-4dbf-a2af-bd6eabd678f7",
   "metadata": {},
   "outputs": [],
   "source": [
    "loss_fn=nn.CrossEntropyLoss() #다중분류"
   ]
  },
  {
   "cell_type": "code",
   "execution_count": 45,
   "id": "de6e1f3e-e2b7-4127-b41e-d4a025d5fd8c",
   "metadata": {},
   "outputs": [],
   "source": [
    "#optimizer\n",
    "import torch.optim as optim #학습에 관련된 optimizing method가 있는 패키지"
   ]
  },
  {
   "cell_type": "code",
   "execution_count": 46,
   "id": "02bdbc65-030e-498b-814e-c7d77c331662",
   "metadata": {},
   "outputs": [],
   "source": [
    "learning_rate=1e-3\n",
    "optimizer=torch.optim.Adam(model.parameters(),lr=learning_rate) #weight update"
   ]
  },
  {
   "cell_type": "code",
   "execution_count": 47,
   "id": "1df3f73e-a082-4fd2-aaa5-7ae380658894",
   "metadata": {},
   "outputs": [],
   "source": [
    "#load the Tensorboard\n",
    "%load_ext tensorboard"
   ]
  },
  {
   "cell_type": "code",
   "execution_count": 48,
   "id": "ce36e4a2-8865-4c07-ae50-a9fd0fce9669",
   "metadata": {},
   "outputs": [],
   "source": [
    "from torch.utils.tensorboard import SummaryWriter\n",
    "\n",
    "writer = SummaryWriter('./logs/Tensorboard3')"
   ]
  },
  {
   "cell_type": "code",
   "execution_count": 55,
   "id": "b87632ac-bcfc-4ccc-86c3-6762472e6de4",
   "metadata": {},
   "outputs": [],
   "source": [
    "writer = SummaryWriter('./logs/Tensorboard3')"
   ]
  },
  {
   "cell_type": "code",
   "execution_count": 56,
   "id": "94449bee-e923-487e-bc7a-cd25cea5dbdd",
   "metadata": {},
   "outputs": [
    {
     "name": "stdout",
     "output_type": "stream",
     "text": [
      "NeuralNetwork(\n",
      "  (flatten): Flatten(start_dim=1, end_dim=-1)\n",
      "  (linear_relu_stack): Sequential(\n",
      "    (0): Linear(in_features=784, out_features=128, bias=True)\n",
      "    (1): ReLU()\n",
      "    (2): Dropout(p=0.2, inplace=False)\n",
      "    (3): Linear(in_features=128, out_features=10, bias=True)\n",
      "  )\n",
      ")\n"
     ]
    }
   ],
   "source": [
    "# 새모델 instance 생성\n",
    "\n",
    "model1=NeuralNetwork()\n",
    "print(model1)"
   ]
  },
  {
   "cell_type": "code",
   "execution_count": 57,
   "id": "06a7f48b-38fa-48ef-a8a0-dab44d6fe6b1",
   "metadata": {},
   "outputs": [],
   "source": [
    "#모델 학습 Part\n",
    "\n",
    "\n",
    "def train_loop(dataloader,model,loss_fn,optimizer):\n",
    "    size=len(dataloader.dataset) #데이터의 전체개수\n",
    "    num_batches_train=len(dataloader)\n",
    "    total_loss=0.0\n",
    "    print(f'데이터 전체 사이즈:{size}, 총 배치수:{num_batches_train}') #1\n",
    "    for batch, data in enumerate(dataloader): #이미지와 라벨값 추출 배치단위로, batch 써준이유는 밑에 200번의 배치마다 Loss값을 출력하기위함,0부터 시작\n",
    "        inputs,labels=data\n",
    "        pred=model(inputs) #dataloader에서 이미지 데이터 부분을 학습\n",
    "        loss=loss_fn(pred,labels) #model을통해 나온 최종 예측값, 실제 라벨값과의 차이를 계산해주는 부분.\n",
    "        \n",
    "        #backpropagation\n",
    "        optimizer.zero_grad() #이전 데이터의 미분값이 다음 데이터 역전파의 미분값에 누적되는 것을 방지하기 위해 사용\n",
    "        loss.backward() #backpropagation\n",
    "        optimizer.step() #weight bias step마다 업데이트\n",
    "        \n",
    "        if batch % 200 == 0: #200번 배치마다 loss값 출력, 현재까지 몇개했는지 출력\n",
    "            loss,current = loss.item(), batch * len(X) # 64개의 로스 평균값임-> loss=0,200,,400번째 loss 0.17171473801136017이런식으로 나옴 current= [0:937]*64\n",
    "            print(f'current: {current}') #0\n",
    "            print(f'loss: {loss:>7f} [{current:5d}/{num_batches_train:>5d}]') #0.163\n",
    "        total_loss += loss/ len(dataloader) # sum(loss[batch[index]])/987,987개 배치에대한 loss값 다 더해준후 batch 개수로 나눠줌\n",
    "    return total_loss\n",
    "\n",
    "            \n",
    "# For Test\n",
    "def test_loop(dataloader,model,loss_fn):\n",
    "    size=len(dataloader.dataset) #10000\n",
    "    num_batches=len(dataloader) #전체데이터를 배치로 나눈 길이 10000/64=157\n",
    "    print(f'데이터 전체 사이즈:{size}, 총 배치수:{num_batches}')\n",
    "    test_loss, correct= 0,0 #0으로만들어주고 시작\n",
    "    \n",
    "    with torch.no_grad(): #gradient 계산 X\n",
    "        for data in dataloader:\n",
    "            images, labels= data\n",
    "            pred=model(images)\n",
    "            test_loss += loss_fn(pred,labels).item() #torch tensor중 scalar값을 뽑아줌, batch당 loss값 더해줌 총 157번 더해줌 ex) 0.5587,,,,,157개\n",
    "            correct += (pred.argmax(1) ==labels).type(torch.float).sum().item() #각 배치 64개마다 맞춘 개수 더해줌 총 8735개 correctn ex)[54.0, 112.0]\n",
    "            \n",
    "            \n",
    "    test_loss/=num_batches #전체loss sum/157->\n",
    "    correct /= size #배치당 correct개수/10000->\n",
    "    print(f'Test Error :\\n Accuracy: {(100*correct): 0.1f}%, AVG loss: {test_loss: >7f} \\n')\n",
    "    return test_loss"
   ]
  },
  {
   "cell_type": "code",
   "execution_count": 58,
   "id": "fe1489e5-38e6-4a99-90b6-c5f809e5cd6b",
   "metadata": {
    "tags": []
   },
   "outputs": [
    {
     "name": "stdout",
     "output_type": "stream",
     "text": [
      "Epoch 1\n",
      "-----------\n",
      "데이터 전체 사이즈:60000, 총 배치수:938\n",
      "current: 0\n",
      "loss: 0.163106 [    0/  938]\n",
      "current: 200\n",
      "loss: 0.133846 [  200/  938]\n",
      "current: 400\n",
      "loss: 0.293826 [  400/  938]\n",
      "current: 600\n",
      "loss: 0.178664 [  600/  938]\n",
      "current: 800\n",
      "loss: 0.260129 [  800/  938]\n",
      "데이터 전체 사이즈:10000, 총 배치수:157\n",
      "Test Error :\n",
      " Accuracy:  86.4%, AVG loss: 0.380808 \n",
      "\n",
      "Epoch 2\n",
      "-----------\n",
      "데이터 전체 사이즈:60000, 총 배치수:938\n",
      "current: 0\n",
      "loss: 0.419686 [    0/  938]\n",
      "current: 200\n",
      "loss: 0.301007 [  200/  938]\n",
      "current: 400\n",
      "loss: 0.229246 [  400/  938]\n",
      "current: 600\n",
      "loss: 0.254625 [  600/  938]\n",
      "current: 800\n",
      "loss: 0.114300 [  800/  938]\n",
      "데이터 전체 사이즈:10000, 총 배치수:157\n",
      "Test Error :\n",
      " Accuracy:  86.3%, AVG loss: 0.387177 \n",
      "\n",
      "Epoch 3\n",
      "-----------\n",
      "데이터 전체 사이즈:60000, 총 배치수:938\n",
      "current: 0\n",
      "loss: 0.362429 [    0/  938]\n",
      "current: 200\n",
      "loss: 0.353627 [  200/  938]\n",
      "current: 400\n",
      "loss: 0.403171 [  400/  938]\n",
      "current: 600\n",
      "loss: 0.210858 [  600/  938]\n",
      "current: 800\n",
      "loss: 0.273472 [  800/  938]\n",
      "데이터 전체 사이즈:10000, 총 배치수:157\n",
      "Test Error :\n",
      " Accuracy:  87.1%, AVG loss: 0.378488 \n",
      "\n",
      "Epoch 4\n",
      "-----------\n",
      "데이터 전체 사이즈:60000, 총 배치수:938\n",
      "current: 0\n",
      "loss: 0.289226 [    0/  938]\n",
      "current: 200\n",
      "loss: 0.156985 [  200/  938]\n",
      "current: 400\n",
      "loss: 0.166357 [  400/  938]\n",
      "current: 600\n",
      "loss: 0.173198 [  600/  938]\n",
      "current: 800\n",
      "loss: 0.292877 [  800/  938]\n",
      "데이터 전체 사이즈:10000, 총 배치수:157\n",
      "Test Error :\n",
      " Accuracy:  86.9%, AVG loss: 0.390886 \n",
      "\n",
      "Epoch 5\n",
      "-----------\n",
      "데이터 전체 사이즈:60000, 총 배치수:938\n",
      "current: 0\n",
      "loss: 0.148955 [    0/  938]\n",
      "current: 200\n",
      "loss: 0.183810 [  200/  938]\n",
      "current: 400\n",
      "loss: 0.195292 [  400/  938]\n",
      "current: 600\n",
      "loss: 0.221863 [  600/  938]\n",
      "current: 800\n",
      "loss: 0.255689 [  800/  938]\n",
      "데이터 전체 사이즈:10000, 총 배치수:157\n",
      "Test Error :\n",
      " Accuracy:  86.9%, AVG loss: 0.380422 \n",
      "\n",
      "Epoch 6\n",
      "-----------\n",
      "데이터 전체 사이즈:60000, 총 배치수:938\n",
      "current: 0\n",
      "loss: 0.394054 [    0/  938]\n",
      "current: 200\n",
      "loss: 0.364673 [  200/  938]\n",
      "current: 400\n",
      "loss: 0.358193 [  400/  938]\n",
      "current: 600\n",
      "loss: 0.144009 [  600/  938]\n",
      "current: 800\n",
      "loss: 0.258760 [  800/  938]\n",
      "데이터 전체 사이즈:10000, 총 배치수:157\n",
      "Test Error :\n",
      " Accuracy:  87.0%, AVG loss: 0.383865 \n",
      "\n",
      "Epoch 7\n",
      "-----------\n",
      "데이터 전체 사이즈:60000, 총 배치수:938\n",
      "current: 0\n",
      "loss: 0.263933 [    0/  938]\n",
      "current: 200\n",
      "loss: 0.190119 [  200/  938]\n",
      "current: 400\n",
      "loss: 0.259341 [  400/  938]\n",
      "current: 600\n",
      "loss: 0.460690 [  600/  938]\n",
      "current: 800\n",
      "loss: 0.217388 [  800/  938]\n",
      "데이터 전체 사이즈:10000, 총 배치수:157\n",
      "Test Error :\n",
      " Accuracy:  87.2%, AVG loss: 0.387373 \n",
      "\n",
      "Epoch 8\n",
      "-----------\n",
      "데이터 전체 사이즈:60000, 총 배치수:938\n",
      "current: 0\n",
      "loss: 0.261407 [    0/  938]\n",
      "current: 200\n",
      "loss: 0.177383 [  200/  938]\n",
      "current: 400\n",
      "loss: 0.222291 [  400/  938]\n",
      "current: 600\n",
      "loss: 0.297711 [  600/  938]\n",
      "current: 800\n",
      "loss: 0.249890 [  800/  938]\n",
      "데이터 전체 사이즈:10000, 총 배치수:157\n",
      "Test Error :\n",
      " Accuracy:  86.7%, AVG loss: 0.383079 \n",
      "\n",
      "Epoch 9\n",
      "-----------\n",
      "데이터 전체 사이즈:60000, 총 배치수:938\n",
      "current: 0\n",
      "loss: 0.252149 [    0/  938]\n",
      "current: 200\n",
      "loss: 0.307931 [  200/  938]\n",
      "current: 400\n",
      "loss: 0.346673 [  400/  938]\n",
      "current: 600\n",
      "loss: 0.504308 [  600/  938]\n",
      "current: 800\n",
      "loss: 0.154958 [  800/  938]\n",
      "데이터 전체 사이즈:10000, 총 배치수:157\n",
      "Test Error :\n",
      " Accuracy:  87.6%, AVG loss: 0.371801 \n",
      "\n",
      "Epoch 10\n",
      "-----------\n",
      "데이터 전체 사이즈:60000, 총 배치수:938\n",
      "current: 0\n",
      "loss: 0.181571 [    0/  938]\n",
      "current: 200\n",
      "loss: 0.170939 [  200/  938]\n",
      "current: 400\n",
      "loss: 0.216505 [  400/  938]\n",
      "current: 600\n",
      "loss: 0.251726 [  600/  938]\n",
      "current: 800\n",
      "loss: 0.183177 [  800/  938]\n",
      "데이터 전체 사이즈:10000, 총 배치수:157\n",
      "Test Error :\n",
      " Accuracy:  87.3%, AVG loss: 0.388646 \n",
      "\n",
      "학습 완료\n"
     ]
    }
   ],
   "source": [
    "#학습 진행\n",
    "parameters=['weight1','bias1', 'weight2', 'bias']\n",
    "\n",
    "epochs = 10\n",
    "for t in range(epochs):\n",
    "    print(f'Epoch {t+1}\\n-----------')\n",
    "    train_loss=train_loop(trainloader,model,loss_fn,optimizer)\n",
    "    writer.add_scalar('train_loss',train_loss,t) #writer.add_scalar(제목,표현할 값,epoch값), 한그래프에 여러 변수를 그릴경우에 dict형태로 넘겨준다,\n",
    "    for param, name in zip(model.parameters(),parameters):\n",
    "        writer.add_histogram(name,param,t) #EPOCH마다 저장\n",
    "    test_loss=test_loop(testloader,model,loss_fn)\n",
    "    writer.add_scalar('test_loss', test_loss,t)\n",
    "print('학습 완료')"
   ]
  },
  {
   "cell_type": "code",
   "execution_count": 59,
   "id": "6730d9e5-a876-4fcd-b9d7-cdd6477c0df1",
   "metadata": {},
   "outputs": [],
   "source": [
    "writer.close()"
   ]
  },
  {
   "cell_type": "code",
   "execution_count": 61,
   "id": "42edf08a-81ac-4aad-bdeb-559472b9192b",
   "metadata": {},
   "outputs": [
    {
     "data": {
      "text/html": [
       "\n",
       "      <iframe id=\"tensorboard-frame-98b3193cce26c2e0\" width=\"100%\" height=\"800\" frameborder=\"0\">\n",
       "      </iframe>\n",
       "      <script>\n",
       "        (function() {\n",
       "          const frame = document.getElementById(\"tensorboard-frame-98b3193cce26c2e0\");\n",
       "          const url = new URL(\"/\", window.location);\n",
       "          const port = 6006;\n",
       "          if (port) {\n",
       "            url.port = port;\n",
       "          }\n",
       "          frame.src = url;\n",
       "        })();\n",
       "      </script>\n",
       "    "
      ],
      "text/plain": [
       "<IPython.core.display.HTML object>"
      ]
     },
     "metadata": {},
     "output_type": "display_data"
    }
   ],
   "source": [
    "%tensorboard --logdir './logs/Tensorboard3'"
   ]
  },
  {
   "cell_type": "code",
   "execution_count": null,
   "id": "4b0e477b-f561-47fd-82e5-69a619b67616",
   "metadata": {},
   "outputs": [],
   "source": []
  }
 ],
 "metadata": {
  "kernelspec": {
   "display_name": "Python 3 (ipykernel)",
   "language": "python",
   "name": "python3"
  },
  "language_info": {
   "codemirror_mode": {
    "name": "ipython",
    "version": 3
   },
   "file_extension": ".py",
   "mimetype": "text/x-python",
   "name": "python",
   "nbconvert_exporter": "python",
   "pygments_lexer": "ipython3",
   "version": "3.7.13"
  }
 },
 "nbformat": 4,
 "nbformat_minor": 5
}
